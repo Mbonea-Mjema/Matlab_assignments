{
  "nbformat": 4,
  "nbformat_minor": 0,
  "metadata": {
    "colab": {
      "name": "Testing_Downloads.ipynb",
      "version": "0.3.2",
      "provenance": [],
      "collapsed_sections": [],
      "toc_visible": true,
      "include_colab_link": true
    },
    "kernelspec": {
      "name": "python3",
      "display_name": "Python 3"
    }
  },
  "cells": [
    {
      "cell_type": "markdown",
      "metadata": {
        "id": "view-in-github",
        "colab_type": "text"
      },
      "source": [
        "<a href=\"https://colab.research.google.com/github/Mbonea-Mjema/Matlab_assignments/blob/master/Testing_Downloads.ipynb\" target=\"_parent\"><img src=\"https://colab.research.google.com/assets/colab-badge.svg\" alt=\"Open In Colab\"/></a>"
      ]
    },
    {
      "cell_type": "markdown",
      "metadata": {
        "id": "HZTynEQCXSIA",
        "colab_type": "text"
      },
      "source": [
        "## **Install the required modules and mount the drive**"
      ]
    },
    {
      "cell_type": "code",
      "metadata": {
        "colab_type": "code",
        "id": "UWqblnMMWpHR",
        "outputId": "da15ca22-b01f-4013-f5e2-66b05d5a7d0b",
        "colab": {
          "base_uri": "https://localhost:8080/",
          "height": 1000
        }
      },
      "source": [
        "!pip3 install Tgcrypto pyrogram bs4 requests firebase-admin\n",
        "\n",
        "# Run this cell to mount your Google Drive.\n",
        "from google.colab import drive\n",
        "\n",
        "drive.mount('/content/drive')"
      ],
      "execution_count": 1,
      "outputs": [
        {
          "output_type": "stream",
          "text": [
            "Collecting Tgcrypto\n",
            "\u001b[?25l  Downloading https://files.pythonhosted.org/packages/5c/32/3aa51f9f51da598faf7627440ed367db17cc94141b94f62198cddee4658c/TgCrypto-1.2.0-cp36-cp36m-manylinux1_x86_64.whl (42kB)\n",
            "\u001b[K     |████████████████████████████████| 51kB 1.3MB/s \n",
            "\u001b[?25hCollecting pyrogram\n",
            "\u001b[?25l  Downloading https://files.pythonhosted.org/packages/99/f6/6d07806260711d520eec976a440ffb54acc3455ff2848fc48d92dfcc9cf2/Pyrogram-0.15.1-py3-none-any.whl (1.9MB)\n",
            "\u001b[K     |████████████████████████████████| 1.9MB 5.2MB/s \n",
            "\u001b[?25hRequirement already satisfied: bs4 in /usr/local/lib/python3.6/dist-packages (0.0.1)\n",
            "Requirement already satisfied: requests in /usr/local/lib/python3.6/dist-packages (2.21.0)\n",
            "Collecting firebase-admin\n",
            "\u001b[?25l  Downloading https://files.pythonhosted.org/packages/b3/ba/067b764fbdb70bc733d17b103e3c9a131144143ceac33d48f6f3c702deb8/firebase_admin-2.17.0-py2.py3-none-any.whl (68kB)\n",
            "\u001b[K     |████████████████████████████████| 71kB 23.8MB/s \n",
            "\u001b[?25hCollecting pyaes==1.6.1 (from pyrogram)\n",
            "  Downloading https://files.pythonhosted.org/packages/44/66/2c17bae31c906613795711fc78045c285048168919ace2220daa372c7d72/pyaes-1.6.1.tar.gz\n",
            "Requirement already satisfied: pysocks==1.7.0 in /usr/local/lib/python3.6/dist-packages (from pyrogram) (1.7.0)\n",
            "Requirement already satisfied: beautifulsoup4 in /usr/local/lib/python3.6/dist-packages (from bs4) (4.6.3)\n",
            "Requirement already satisfied: idna<2.9,>=2.5 in /usr/local/lib/python3.6/dist-packages (from requests) (2.8)\n",
            "Requirement already satisfied: urllib3<1.25,>=1.21.1 in /usr/local/lib/python3.6/dist-packages (from requests) (1.24.3)\n",
            "Requirement already satisfied: chardet<3.1.0,>=3.0.2 in /usr/local/lib/python3.6/dist-packages (from requests) (3.0.4)\n",
            "Requirement already satisfied: certifi>=2017.4.17 in /usr/local/lib/python3.6/dist-packages (from requests) (2019.6.16)\n",
            "Collecting cachecontrol>=0.12.4 (from firebase-admin)\n",
            "  Downloading https://files.pythonhosted.org/packages/5e/f0/2c193ed1f17c97ae539da7e1c2d48b80d8cccb1917163b26a91ca4355aa6/CacheControl-0.12.5.tar.gz\n",
            "Collecting google-cloud-firestore>=0.31.0; platform_python_implementation != \"PyPy\" (from firebase-admin)\n",
            "\u001b[?25l  Downloading https://files.pythonhosted.org/packages/5d/66/5c97605926e53a1f1f6e2ec159d7e1ec8b712366d35a2f8d764240b3853f/google_cloud_firestore-1.3.0-py2.py3-none-any.whl (278kB)\n",
            "\u001b[K     |████████████████████████████████| 286kB 41.2MB/s \n",
            "\u001b[?25hRequirement already satisfied: google-api-python-client>=1.7.8 in /usr/local/lib/python3.6/dist-packages (from firebase-admin) (1.7.9)\n",
            "Requirement already satisfied: six>=1.6.1 in /usr/local/lib/python3.6/dist-packages (from firebase-admin) (1.12.0)\n",
            "Requirement already satisfied: google-api-core[grpc]<2.0.0dev,>=1.7.0; platform_python_implementation != \"PyPy\" in /usr/local/lib/python3.6/dist-packages (from firebase-admin) (1.13.0)\n",
            "Requirement already satisfied: google-cloud-storage>=1.13.0 in /usr/local/lib/python3.6/dist-packages (from firebase-admin) (1.16.1)\n",
            "Requirement already satisfied: msgpack in /usr/local/lib/python3.6/dist-packages (from cachecontrol>=0.12.4->firebase-admin) (0.5.6)\n",
            "Requirement already satisfied: google-cloud-core<2.0dev,>=1.0.0 in /usr/local/lib/python3.6/dist-packages (from google-cloud-firestore>=0.31.0; platform_python_implementation != \"PyPy\"->firebase-admin) (1.0.2)\n",
            "Requirement already satisfied: pytz in /usr/local/lib/python3.6/dist-packages (from google-cloud-firestore>=0.31.0; platform_python_implementation != \"PyPy\"->firebase-admin) (2018.9)\n",
            "Requirement already satisfied: google-auth>=1.4.1 in /usr/local/lib/python3.6/dist-packages (from google-api-python-client>=1.7.8->firebase-admin) (1.4.2)\n",
            "Requirement already satisfied: httplib2<1dev,>=0.9.2 in /usr/local/lib/python3.6/dist-packages (from google-api-python-client>=1.7.8->firebase-admin) (0.11.3)\n",
            "Requirement already satisfied: uritemplate<4dev,>=3.0.0 in /usr/local/lib/python3.6/dist-packages (from google-api-python-client>=1.7.8->firebase-admin) (3.0.0)\n",
            "Requirement already satisfied: google-auth-httplib2>=0.0.3 in /usr/local/lib/python3.6/dist-packages (from google-api-python-client>=1.7.8->firebase-admin) (0.0.3)\n",
            "Requirement already satisfied: setuptools>=34.0.0 in /usr/local/lib/python3.6/dist-packages (from google-api-core[grpc]<2.0.0dev,>=1.7.0; platform_python_implementation != \"PyPy\"->firebase-admin) (41.0.1)\n",
            "Requirement already satisfied: protobuf>=3.4.0 in /usr/local/lib/python3.6/dist-packages (from google-api-core[grpc]<2.0.0dev,>=1.7.0; platform_python_implementation != \"PyPy\"->firebase-admin) (3.7.1)\n",
            "Requirement already satisfied: googleapis-common-protos!=1.5.4,<2.0dev,>=1.5.3 in /usr/local/lib/python3.6/dist-packages (from google-api-core[grpc]<2.0.0dev,>=1.7.0; platform_python_implementation != \"PyPy\"->firebase-admin) (1.6.0)\n",
            "Requirement already satisfied: grpcio<2.0dev,>=1.8.2; extra == \"grpc\" in /usr/local/lib/python3.6/dist-packages (from google-api-core[grpc]<2.0.0dev,>=1.7.0; platform_python_implementation != \"PyPy\"->firebase-admin) (1.15.0)\n",
            "Requirement already satisfied: google-resumable-media>=0.3.1 in /usr/local/lib/python3.6/dist-packages (from google-cloud-storage>=1.13.0->firebase-admin) (0.3.2)\n",
            "Requirement already satisfied: rsa>=3.1.4 in /usr/local/lib/python3.6/dist-packages (from google-auth>=1.4.1->google-api-python-client>=1.7.8->firebase-admin) (4.0)\n",
            "Requirement already satisfied: pyasn1-modules>=0.2.1 in /usr/local/lib/python3.6/dist-packages (from google-auth>=1.4.1->google-api-python-client>=1.7.8->firebase-admin) (0.2.5)\n",
            "Requirement already satisfied: cachetools>=2.0.0 in /usr/local/lib/python3.6/dist-packages (from google-auth>=1.4.1->google-api-python-client>=1.7.8->firebase-admin) (3.1.1)\n",
            "Requirement already satisfied: pyasn1>=0.1.3 in /usr/local/lib/python3.6/dist-packages (from rsa>=3.1.4->google-auth>=1.4.1->google-api-python-client>=1.7.8->firebase-admin) (0.4.5)\n",
            "Building wheels for collected packages: pyaes, cachecontrol\n",
            "  Building wheel for pyaes (setup.py) ... \u001b[?25l\u001b[?25hdone\n",
            "  Stored in directory: /root/.cache/pip/wheels/bd/cf/7b/ced9e8f28c50ed666728e8ab178ffedeb9d06f6a10f85d6432\n",
            "  Building wheel for cachecontrol (setup.py) ... \u001b[?25l\u001b[?25hdone\n",
            "  Stored in directory: /root/.cache/pip/wheels/36/bd/5f/dbbee4f2d51f97ecd12a363f870361179cb1fd4bc1174ea08a\n",
            "Successfully built pyaes cachecontrol\n",
            "Installing collected packages: Tgcrypto, pyaes, pyrogram, cachecontrol, google-cloud-firestore, firebase-admin\n",
            "Successfully installed Tgcrypto-1.2.0 cachecontrol-0.12.5 firebase-admin-2.17.0 google-cloud-firestore-1.3.0 pyaes-1.6.1 pyrogram-0.15.1\n"
          ],
          "name": "stdout"
        },
        {
          "output_type": "display_data",
          "data": {
            "application/vnd.colab-display-data+json": {
              "pip_warning": {
                "packages": [
                  "google"
                ]
              }
            }
          },
          "metadata": {
            "tags": []
          }
        },
        {
          "output_type": "stream",
          "text": [
            "Go to this URL in a browser: https://accounts.google.com/o/oauth2/auth?client_id=947318989803-6bn6qk8qdgf4n4g3pfee6491hc0brc4i.apps.googleusercontent.com&redirect_uri=urn%3Aietf%3Awg%3Aoauth%3A2.0%3Aoob&scope=email%20https%3A%2F%2Fwww.googleapis.com%2Fauth%2Fdocs.test%20https%3A%2F%2Fwww.googleapis.com%2Fauth%2Fdrive%20https%3A%2F%2Fwww.googleapis.com%2Fauth%2Fdrive.photos.readonly%20https%3A%2F%2Fwww.googleapis.com%2Fauth%2Fpeopleapi.readonly&response_type=code\n",
            "\n",
            "Enter your authorization code:\n",
            "··········\n",
            "Mounted at /content/drive\n"
          ],
          "name": "stdout"
        }
      ]
    },
    {
      "cell_type": "code",
      "metadata": {
        "id": "1MTfZcQdY_5K",
        "colab_type": "code",
        "outputId": "99d80a96-5ff6-4fe7-fbaa-721058ca43be",
        "colab": {
          "base_uri": "https://localhost:8080/",
          "height": 35
        }
      },
      "source": [
        "import firebase_admin\n",
        "import google.cloud\n",
        "from firebase_admin import credentials, firestore\n",
        "\n",
        "cred = credentials.Certificate(\n",
        "    \"./drive/My Drive/Keys/firebase.json\"\n",
        ")\n",
        "app = firebase_admin.initialize_app(cred)\n",
        "\n",
        "store = firestore.client()\n",
        "doc_ref = store.collection(u'Users').document(u'Data')\n",
        "print(doc_ref.get())\n",
        "doc_ref.set({'first': {\"cool\": \"name\"}, 'last': 'Mjema', 'born': 1815})\n",
        "Series = store.collection(\"Telegram\")\n",
        "\n",
        "def search_documents(ref):\n",
        "    data ={}\n",
        "    for i in ref.list_documents():\n",
        "        data[i.id]=i\n",
        "    return data\n",
        "\n",
        "def search_collections(ref):\n",
        "    data ={}\n",
        "    for i in ref.collections():\n",
        "        data[i.id]=i\n",
        "    return data\n",
        "\n",
        "def get_series_available(Series,object=False):\n",
        "    if object:\n",
        "        return search_documents(Series)\n",
        "    else:\n",
        "        return list(search_documents(Series).keys())\n",
        "\n",
        "def get_seasons(series_ref):\n",
        "    return search_collections(series_ref)\n",
        "\n",
        "def get_episodes(season_ref):\n",
        "    data ={}\n",
        "    for i in season_ref.get():\n",
        "        data[i.id]=i.get('id')\n",
        "    return data\n",
        "\n"
      ],
      "execution_count": 10,
      "outputs": [
        {
          "output_type": "stream",
          "text": [
            "<google.cloud.firestore_v1.document.DocumentSnapshot object at 0x7f8290ccaeb8>\n"
          ],
          "name": "stdout"
        }
      ]
    },
    {
      "cell_type": "markdown",
      "metadata": {
        "id": "vWkIpLPOmQbc",
        "colab_type": "text"
      },
      "source": [
        "##Telegram Project \n",
        "\n",
        "\n",
        "###1.   Download the links from the url you want to send \n",
        "###2.   Download the video files preferably in 480p afterwards convert them to mp4\n",
        "###3.  Upload the files to telegram and send the file id to firebase   \n",
        "\n",
        "\n"
      ]
    },
    {
      "cell_type": "code",
      "metadata": {
        "id": "FxyLZKLdivhV",
        "colab_type": "code",
        "outputId": "468d6d7d-19be-49f7-a6c6-d873786dc0e5",
        "colab": {
          "base_uri": "https://localhost:8080/",
          "height": 237
        }
      },
      "source": [
        "# # install the required packages\n",
        "# from bs4 import BeautifulSoup\n",
        "# import requests\n",
        "# import re\n",
        "\n",
        "# proxy = 'http://proxy-server.herokuapp.com/'\n",
        "# url = proxy+input(\"Enter url \")\n",
        "# print('sending request')\n",
        "# print(url)\n",
        "# html_page = requests.get(url).content\n",
        "# print('got it')\n",
        "# print(html_page)\n",
        "# soup = BeautifulSoup(html_page,'html.parser')\n",
        "# links =[]\n",
        "# for link in soup.findAll('a'):\n",
        "#     if \"480\" in link.text:\n",
        "#       links.append(url+link.attrs['href'])\n",
        "# print(links)\n",
        "\n",
        "links =files\n",
        "prv ='https://proxy{}.herokuapp.com/'\n",
        "proxies =[proxy]\n",
        "nums =[12,13,16,18,87,67]\n",
        "for num in nums:\n",
        "  proxies.append(prv.format(num))\n",
        "new= []\n",
        "p=-1\n",
        "for i in links:\n",
        "  if links.index(i)%2 == 0:\n",
        "    p=p+1\n",
        "  if links.index(i) > 2*len(proxies):\n",
        "    break\n",
        "  else:\n",
        "   print(i.replace(proxy,proxies[p]))\n",
        "   new.append(i.replace(proxy,proxies[p])) \n",
        "\n",
        "links = new\n",
        "links.sort()\n",
        "with open('input.txt','w') as f:\n",
        "  for i in links:\n",
        "    f.write(i+\"\\n\") \n",
        "print(links)  "
      ],
      "execution_count": 0,
      "outputs": [
        {
          "output_type": "stream",
          "text": [
            "http://proxy-server.herokuapp.com/https://v1.4animu.me/Shingeki-no-Kyojin-Season-3-Part-2/Shingeki-no-Kyojin-Season-3-Part-2-Episode-01-1080p.mp4\n",
            "http://proxy-server.herokuapp.com/https://v1.4animu.me/Shingeki-no-Kyojin-Season-3-Part-2/Shingeki-no-Kyojin-Season-3-Part-2-Episode-02-1080p.mp4\n",
            "https://proxy12.herokuapp.com/https://v1.4animu.me/Shingeki-no-Kyojin-Season-3-Part-2/Shingeki-no-Kyojin-Season-3-Part-2-Episode-03-1080p.mp4\n",
            "https://proxy12.herokuapp.com/https://v1.4animu.me/Shingeki-no-Kyojin-Season-3-Part-2/Shingeki-no-Kyojin-Season-3-Part-2-Episode-04-1080p.mp4\n",
            "https://proxy13.herokuapp.com/https://v1.4animu.me/Shingeki-no-Kyojin-Season-3-Part-2/Shingeki-no-Kyojin-Season-3-Part-2-Episode-05-1080p.mp4\n",
            "https://proxy13.herokuapp.com/https://v1.4animu.me/Shingeki-no-Kyojin-Season-3-Part-2/Shingeki-no-Kyojin-Season-3-Part-2-Episode-06-1080p.mp4\n",
            "https://proxy16.herokuapp.com/https://v1.4animu.me/Shingeki-no-Kyojin-Season-3-Part-2/Shingeki-no-Kyojin-Season-3-Part-2-Episode-07-1080p.mp4\n",
            "https://proxy16.herokuapp.com/https://v1.4animu.me/Shingeki-no-Kyojin-Season-3-Part-2/Shingeki-no-Kyojin-Season-3-Part-2-Episode-08-1080p.mp4\n",
            "https://proxy18.herokuapp.com/https://v1.4animu.me/Shingeki-no-Kyojin-Season-3-Part-2/Shingeki-no-Kyojin-Season-3-Part-2-Episode-09-1080p.mp4\n",
            "https://proxy18.herokuapp.com/https://v1.4animu.me/Shingeki-no-Kyojin-Season-3-Part-2/Shingeki-no-Kyojin-Season-3-Part-2-Episode-10-1080p.mp4\n",
            "['http://proxy-server.herokuapp.com/https://v1.4animu.me/Shingeki-no-Kyojin-Season-3-Part-2/Shingeki-no-Kyojin-Season-3-Part-2-Episode-01-1080p.mp4', 'http://proxy-server.herokuapp.com/https://v1.4animu.me/Shingeki-no-Kyojin-Season-3-Part-2/Shingeki-no-Kyojin-Season-3-Part-2-Episode-02-1080p.mp4', 'https://proxy12.herokuapp.com/https://v1.4animu.me/Shingeki-no-Kyojin-Season-3-Part-2/Shingeki-no-Kyojin-Season-3-Part-2-Episode-03-1080p.mp4', 'https://proxy12.herokuapp.com/https://v1.4animu.me/Shingeki-no-Kyojin-Season-3-Part-2/Shingeki-no-Kyojin-Season-3-Part-2-Episode-04-1080p.mp4', 'https://proxy13.herokuapp.com/https://v1.4animu.me/Shingeki-no-Kyojin-Season-3-Part-2/Shingeki-no-Kyojin-Season-3-Part-2-Episode-05-1080p.mp4', 'https://proxy13.herokuapp.com/https://v1.4animu.me/Shingeki-no-Kyojin-Season-3-Part-2/Shingeki-no-Kyojin-Season-3-Part-2-Episode-06-1080p.mp4', 'https://proxy16.herokuapp.com/https://v1.4animu.me/Shingeki-no-Kyojin-Season-3-Part-2/Shingeki-no-Kyojin-Season-3-Part-2-Episode-07-1080p.mp4', 'https://proxy16.herokuapp.com/https://v1.4animu.me/Shingeki-no-Kyojin-Season-3-Part-2/Shingeki-no-Kyojin-Season-3-Part-2-Episode-08-1080p.mp4', 'https://proxy18.herokuapp.com/https://v1.4animu.me/Shingeki-no-Kyojin-Season-3-Part-2/Shingeki-no-Kyojin-Season-3-Part-2-Episode-09-1080p.mp4', 'https://proxy18.herokuapp.com/https://v1.4animu.me/Shingeki-no-Kyojin-Season-3-Part-2/Shingeki-no-Kyojin-Season-3-Part-2-Episode-10-1080p.mp4']\n"
          ],
          "name": "stdout"
        }
      ]
    },
    {
      "cell_type": "code",
      "metadata": {
        "id": "1c5pBDXwTE60",
        "colab_type": "code",
        "colab": {}
      },
      "source": [
        "Series = store.collection(\"Telegram\")\n",
        "count =1\n",
        "# for i in d:\n",
        "#     c = \"{}\".format(count).zfill(2)\n",
        "#     Series.document(u\"American-Gods/S02/E\"+c).set({'id':d[i]})\n",
        "#     count+=1"
      ],
      "execution_count": 0,
      "outputs": []
    },
    {
      "cell_type": "code",
      "metadata": {
        "id": "Hspi49_TjXs3",
        "colab_type": "code",
        "outputId": "558c9c1e-b20f-41db-cdb7-fc95c95f951a",
        "colab": {
          "base_uri": "https://localhost:8080/",
          "height": 88
        }
      },
      "source": [
        "import pprint,time\n",
        "pp = pprint.PrettyPrinter()\n",
        "import re,subprocess,time\n",
        "import os.path\n",
        "import os\n",
        "import threading\n",
        "\n",
        "print(subprocess.call( 'aria2c -i input.txt -j 30 -m 0 -l output.txt',shell=True))   \n",
        "print('download complete?')\n",
        "def botty(files=None):\n",
        "  lock = threading.Lock()\n",
        "  #bot_key=\"399340337:AAG-yD4Xpfo1cCOfoLJLI9lDSE7_fbEtqiA\"\n",
        "  bot_key=\"489892906:AAEZwzd4A2mXDhQyixEYXLHuBZ1paO7aqWs\"\n",
        "  \n",
        "  from pyrogram import Client, Filters\n",
        "  from pyrogram.errors import FloodWait\n",
        "  id =\"870972\"\n",
        "  hash =\"ce2efaca02dfcd110941be6025e9ac0d\"\n",
        "  app = Client(\"my_bot\",api_hash=hash,api_id=id,bot_token=bot_key)\n",
        "  pr =\"**{}  \\n {}%** complete\"\n",
        "  ma ='''**{}**'''\n",
        "  #print('here')\n",
        "\n",
        "  def bar(client, current, total,message,name):\n",
        "    user_id = message.chat.id\n",
        "    mes_id = message.message_id\n",
        "    \n",
        "    with lock:\n",
        "      try:\n",
        "        m = client.edit_message_text(chat_id=user_id,message_id=mes_id,text=pr.format(name ,str(int(100*current/total))),parse_mode=\"markdown\")\n",
        "        time.sleep(1)\n",
        "      except:\n",
        "        pass\n",
        "\n",
        "  print('here1')  \n",
        "  def fast(message,i,client):\n",
        "    global name,SE\n",
        "    m=message.reply(\"Uploading .. {}\".format(i))\n",
        "    done =False\n",
        "    try:\n",
        "      while not done:\n",
        "        try:\n",
        "          #Series.document(i.replace(\"/MP4/\",\"\")).set({'id':d[i]})\n",
        "          with open('done3.txt','a') as f:\n",
        "            f.write(i+\":\"+fid+\"\\n\")\n",
        "        except FloodWait as e:\n",
        "          time.sleep(e.x) \n",
        "          message.reply(\"Error in uploading\")\n",
        "          pass\n",
        "        try:\n",
        "          client.delete_messages(chat_id=m.chat.id,message_id = m.message_id)\n",
        "        except:\n",
        "          print('Could not delete message')\n",
        "    except:\n",
        "      pass\n",
        "\n",
        "\n",
        "  @app.on_message(Filters.private)\n",
        "  def hello(client, message):\n",
        "      mes=message.reply(\"Hello {}\".format(message.from_user.first_name))\n",
        "      print(message)\n",
        "      #time.sleep(3)\n",
        "      #client.delete_messages(chat_id=mes.chat.id, message_ids=mes.message_id)\n",
        "      for i in files:\n",
        "        mes=message.reply(\"Uploading .. {}\".format(i))\n",
        "        data = message.reply_video(\"./\"+i,progress=bar,progress_args= (mes,i.split(\"/\")[-1]),caption=ma.format(i.split(\"/\")[-1]),parse_mode=\"markdown\")\n",
        "        fid=data.video.file_id\n",
        "        #done =True\n",
        "        s = SE[:3]\n",
        "        e=i.split(\"/\")[-1].split('--')[-1].replace(\".mp4\",\"\")\n",
        "        Series.document(name+'/'+s+'/'+e).set({'id':fid})\n",
        "\n",
        "        #time.sleep(10)\n",
        "       \n",
        "        \n",
        "  print('running the telegram Bot')      \n",
        "  app.run()    \n",
        "     \n",
        "def mp4s(path):\n",
        "  import os\n",
        "  files =[]\n",
        "\n",
        "    \n",
        "  for i in os.listdir(path):\n",
        "    if \".mp4\" in i:\n",
        "      files.append(path+\"/\"+i)\n",
        "  return files\n",
        "  \n",
        "def conv_these():\n",
        "  import os\n",
        "  convert =[]\n",
        "  for i in os.listdir(\"./\"):\n",
        "    if '.mkv' in i and not \"aria2\" in i:\n",
        "      convert.append(i)\n",
        "  return convert\n",
        "\n",
        "name =None\n",
        "SE = None\n",
        "def mkv_mp4(files):\n",
        "  global name,SE\n",
        "  import subprocess,os\n",
        " \n",
        "  name = files[0].split(\".480p\")[0]\n",
        "  SE =name.split(\".\")[-1]\n",
        "  name=name.replace(\".\",\" \")\n",
        "  name = name.replace(SE,\"\").strip().replace(\" \",\"-\")\n",
        "  path = \"./MP4/\"+name+\"/\"+SE[:3]\n",
        "  if not os.path.exists(path):\n",
        "    os.makedirs(path)\n",
        "\n",
        "  for i in files:\n",
        "    print('converting')\n",
        "    name = files[files.index(i)].split(\".480p\")[0]\n",
        "    SE =name.split(\".\")[-1]\n",
        "    name=name.replace(\".\",\" \")\n",
        "    name = name.replace(SE,\"\")\n",
        "    out = name+\" \"+SE[-3:].replace(\" \",'-')\n",
        "    out =out.replace(\" \",'-')\n",
        "    #print('ffmpeg -i ./{} -vcodec copy -acodec copy {}/{}.mp4'.format(i,path,out))\n",
        "    subprocess.call('ffmpeg -i ./{} -vcodec copy -acodec copy {}/{}.mp4'.format(i,path,out),shell=True)\n",
        "    #subprocess.call( 'rm {} '.format(i),shell=True)\n",
        "  return path\n",
        "  \n",
        "\n",
        "og =os.getcwd()\n",
        "mkv =conv_these()\n",
        "if mkv ==[]:\n",
        "  convert =[]\n",
        "  n=input('name of series')\n",
        "  os.makedirs('./MP4/'+n+'/')\n",
        "  for i in os.listdir(\"./\"):\n",
        "    if '.mp4' in i and not \"aria2\" in i:\n",
        "      file =os.path.join(os.getcwd(),i)\n",
        "      os.rename(file,'./MP4/'+n+'/'+i)\n",
        "#       files = mp4s()\n",
        "# # else:\n",
        "\n",
        "#   # print(mkv)\n",
        "#   path= mkv_mp4(mkv)\n",
        "\n",
        "# os.chdir(og)\n",
        "#   #!rm *.mkv* && pkill wget && ps -e\n",
        "#   print('starting')\n",
        "#   files.sort()\n",
        "# botty(files)\n",
        "# print(files)\n",
        "# print('done')\n"
      ],
      "execution_count": 0,
      "outputs": [
        {
          "output_type": "stream",
          "text": [
            "0\n",
            "download complete?\n"
          ],
          "name": "stdout"
        }
      ]
    },
    {
      "cell_type": "code",
      "metadata": {
        "id": "CvTHWeA7frAM",
        "colab_type": "code",
        "outputId": "002b453e-d2ce-4137-ec77-0f891486ac63",
        "colab": {
          "base_uri": "https://localhost:8080/",
          "height": 217
        }
      },
      "source": [
        "!rm *.* & \n",
        "!pkill wget \n",
        "!ps -e"
      ],
      "execution_count": 0,
      "outputs": [
        {
          "output_type": "stream",
          "text": [
            "    PID TTY          TIME CMD\n",
            "      1 ?        00:00:00 run.sh\n",
            "     12 ?        00:00:05 node\n",
            "     27 ?        00:00:09 jupyter-noteboo\n",
            "    128 ?        00:00:00 tail\n",
            "    136 ?        00:00:42 python3\n",
            "    200 ?        00:00:00 drive\n",
            "    290 ?        00:00:15 drive\n",
            "    339 ?        00:00:00 tail\n",
            "    340 ?        00:00:00 grep\n",
            "   1993 ?        00:00:00 ps\n"
          ],
          "name": "stdout"
        }
      ]
    },
    {
      "cell_type": "code",
      "metadata": {
        "id": "FNUGbpeMoPrt",
        "colab_type": "code",
        "colab": {}
      },
      "source": [
        "aria2c"
      ],
      "execution_count": 0,
      "outputs": []
    },
    {
      "cell_type": "code",
      "metadata": {
        "id": "xy4--3mRFL9J",
        "colab_type": "code",
        "colab": {}
      },
      "source": [
        "!aria2c http://releases.ubuntu.com/19.04/ubuntu-19.04-desktop-amd64.iso.torrent?_ga=2.187957101.457399372.1561692167-379196159.1561281460"
      ],
      "execution_count": 0,
      "outputs": []
    },
    {
      "cell_type": "code",
      "metadata": {
        "id": "zwuiengkFRhH",
        "colab_type": "code",
        "outputId": "d76c6cf5-94da-45fa-ae6b-80025d1afc20",
        "colab": {
          "base_uri": "https://localhost:8080/",
          "height": 34
        }
      },
      "source": [
        "\"S02E2\"[:3]"
      ],
      "execution_count": 0,
      "outputs": [
        {
          "output_type": "execute_result",
          "data": {
            "text/plain": [
              "'S02'"
            ]
          },
          "metadata": {
            "tags": []
          },
          "execution_count": 14
        }
      ]
    },
    {
      "cell_type": "code",
      "metadata": {
        "id": "uWr3umyqJqGo",
        "colab_type": "code",
        "outputId": "edf8b159-95d2-43ab-ce68-79da5615ab17",
        "colab": {
          "base_uri": "https://localhost:8080/",
          "height": 255
        }
      },
      "source": [
        "files = ['']"
      ],
      "execution_count": 0,
      "outputs": [
        {
          "output_type": "execute_result",
          "data": {
            "text/plain": [
              "['http://proxy-server.herokuapp.com/https://morphee.ninja/videos/Anim%C3%A9s/Mob%20Psycho%20100%20S01%20VOSTFR%201080p%20WebDL%20x264/Mob%20Psycho%20100%20-%2001%20vostfr%20%5b1080p%5d.mp4',\n",
              " 'http://proxy-server.herokuapp.com/https://morphee.ninja/videos/Anim%C3%A9s/Mob%20Psycho%20100%20S01%20VOSTFR%201080p%20WebDL%20x264/Mob%20Psycho%20100%20-%2002%20vostfr%20%5b1080p%5d.mp4',\n",
              " 'http://proxy-server.herokuapp.com/https://morphee.ninja/videos/Anim%C3%A9s/Mob%20Psycho%20100%20S01%20VOSTFR%201080p%20WebDL%20x264/Mob%20Psycho%20100%20-%2003%20vostfr%20%5b1080p%5d.mp4',\n",
              " 'https://proxy12.herokuapp.com/https://morphee.ninja/videos/Anim%C3%A9s/Mob%20Psycho%20100%20S01%20VOSTFR%201080p%20WebDL%20x264/Mob%20Psycho%20100%20-%2004%20vostfr%20%5b1080p%5d.mp4',\n",
              " 'https://proxy12.herokuapp.com/https://morphee.ninja/videos/Anim%C3%A9s/Mob%20Psycho%20100%20S01%20VOSTFR%201080p%20WebDL%20x264/Mob%20Psycho%20100%20-%2005%20vostfr%20%5b1080p%5d.mp4',\n",
              " 'https://proxy12.herokuapp.com/https://morphee.ninja/videos/Anim%C3%A9s/Mob%20Psycho%20100%20S01%20VOSTFR%201080p%20WebDL%20x264/Mob%20Psycho%20100%20-%2006%20vostfr%20%5b1080p%5d.mp4',\n",
              " 'https://proxy13.herokuapp.com/https://morphee.ninja/videos/Anim%C3%A9s/Mob%20Psycho%20100%20S01%20VOSTFR%201080p%20WebDL%20x264/Mob%20Psycho%20100%20-%2007%20vostfr%20%5b1080p%5d.mp4',\n",
              " 'https://proxy13.herokuapp.com/https://morphee.ninja/videos/Anim%C3%A9s/Mob%20Psycho%20100%20S01%20VOSTFR%201080p%20WebDL%20x264/Mob%20Psycho%20100%20-%2008%20vostfr%20%5b1080p%5d.mp4',\n",
              " 'https://proxy13.herokuapp.com/https://morphee.ninja/videos/Anim%C3%A9s/Mob%20Psycho%20100%20S01%20VOSTFR%201080p%20WebDL%20x264/Mob%20Psycho%20100%20-%2009%20vostfr%20%5b1080p%5d.mp4',\n",
              " 'https://proxy16.herokuapp.com/https://morphee.ninja/videos/Anim%C3%A9s/Mob%20Psycho%20100%20S01%20VOSTFR%201080p%20WebDL%20x264/Mob%20Psycho%20100%20-%2010%20vostfr%20%5b1080p%5d.mp4',\n",
              " 'https://proxy16.herokuapp.com/https://morphee.ninja/videos/Anim%C3%A9s/Mob%20Psycho%20100%20S01%20VOSTFR%201080p%20WebDL%20x264/Mob%20Psycho%20100%20-%2011%20vostfr%20%5b1080p%5d.mp4',\n",
              " 'https://proxy16.herokuapp.com/https://morphee.ninja/videos/Anim%C3%A9s/Mob%20Psycho%20100%20S01%20VOSTFR%201080p%20WebDL%20x264/Mob%20Psycho%20100%20-%2012%20vostfr%20%5b1080p%5d.mp4']"
            ]
          },
          "metadata": {
            "tags": []
          },
          "execution_count": 117
        }
      ]
    },
    {
      "cell_type": "code",
      "metadata": {
        "id": "UtoAiw85Tfm1",
        "colab_type": "code",
        "colab": {}
      },
      "source": [
        "Series = store.collection(\"Telegram2\")"
      ],
      "execution_count": 0,
      "outputs": []
    },
    {
      "cell_type": "code",
      "metadata": {
        "id": "NenT06SpqhYN",
        "colab_type": "code",
        "outputId": "fc352a99-a669-4e75-cd16-b24ab1ce0ab2",
        "colab": {
          "base_uri": "https://localhost:8080/",
          "height": 763
        }
      },
      "source": [
        "import re,subprocess,time\n",
        "import os.path\n",
        "import os\n",
        "import threading\n",
        "\n",
        "\n",
        "\n",
        "\n",
        "####################################\n",
        "########  Downloader      #########\n",
        "#####################################\n",
        "\n",
        "\n",
        "# def progress(text):\n",
        "#   percent = re.compile(' \\d{1,3}% ' )\n",
        "#   try:\n",
        "#     data = percent.findall(text)[0]\n",
        "#   except:\n",
        "#     data = False\n",
        "#   return data\n",
        "\n",
        "\n",
        "\n",
        "# def ETA(text):\n",
        "#   eta = re.compile('\\d{1,3}[a-z]\\d{1,3}[a-z]')\n",
        "#   try:\n",
        "#     data=  eta.findall(text)[0]\n",
        "#   except:\n",
        "#     data = False\n",
        "#   return data\n",
        "\n",
        "base_dir = os.getcwd()+'/drive/My Drive/Downloads/'\n",
        "if not os.path.exists(base_dir):\n",
        "  os.makedirs(base_dir)\n",
        "\n",
        "\n",
        "# files= links\n",
        "\n",
        "\n",
        "\n",
        "# for file in files:\n",
        "#   number = files.index(file)+1 # file number (Episode number)\n",
        "#   subprocess.call( 'wget {} -P \"{}\" --retry-on-http-error=429,503,504  --tries=0 --output-file=E{}.txt &'.format(file,base_dir,number),shell=True) # inifnity retries outputs to a specific file\n",
        "# #time.sleep(10) \n",
        "\n",
        "# done =[]\n",
        "# finish = False\n",
        "# deb = False\n",
        "# while not finish:\n",
        "#   for i in range(len(files)):\n",
        "#     if i in done:\n",
        "#       continue\n",
        "#     number = i+1\n",
        "#     file ='E{}.txt'.format(number)\n",
        "#     text=''\n",
        "#     try:\n",
        "#       with open(file,'r') as f:\n",
        "#         text=f.read()[-200:]\n",
        "#     except:\n",
        "#       continue\n",
        "#     percent = progress(text)\n",
        "#     if percent:\n",
        "#       eta = ETA(text)\n",
        "#       print('Episode {} --> {} {} '.format(number,percent,eta))\n",
        "#       per = int(percent.replace('%',''))\n",
        "#       if deb:\n",
        "#         print(per)\n",
        "#       if per == 100:\n",
        "#         done.append(i)\n",
        "#     else:\n",
        "#       print('Episode {} waiting ..'.format(number))\n",
        "#     if len(done) == len(files):\n",
        "#       print('Download complete!')\n",
        "#       finish = True\n",
        "#       break\n",
        "#     time.sleep(10)\n",
        "  \n",
        "\n",
        "  \n",
        "  \n",
        "#################################################################################################################\n",
        "\n",
        "\n",
        "\n",
        "\n",
        "# ####################################\n",
        "# ######## Filemaker       #########\n",
        "# #####################################\n",
        "from os import listdir\n",
        "from os.path import isfile, join\n",
        "\n",
        "\n",
        "def Name(txt):\n",
        "  details = re.compile('[a-zA-Z]\\d{1,2}[a-zA-Z]\\d{1,2}')\n",
        "  txt=''.join(e for e in txt if e.isalnum())\n",
        "  try:\n",
        "    ans =details.findall(txt)[0]\n",
        "    season,episode = ans[:3],ans[3:]\n",
        "    pos=txt.find(ans)\n",
        "    return txt[:pos],season,episode\n",
        "  except:\n",
        "    return False\n",
        "\n",
        "\n",
        "def sorter(dir):\n",
        "  dir.sort()\n",
        "  return dir\n",
        "\n",
        "# default = True\n",
        "# !rm *.txt\n",
        "base =base_dir+'MP4'\n",
        "# if not os.path.exists(base):\n",
        "#   os.mkdir(base)\n",
        "# for i in os.listdir(base_dir):\n",
        "#   if Name(i):\n",
        "#     title,season,episode= Name(i)\n",
        "#     path = '{}/{}/{}'.format(base,title,season)\n",
        "#     if not os.path.exists(path):\n",
        "#       os.makedirs(path)\n",
        "#     if not '.mp4' in i or 'mkv' in i:\n",
        "#       subprocess.call('ffmpeg -i \"{}\" -vcodec copy -acodec copy {}/{}.mp4'.format(i,path,episode),shell=True)\n",
        "#     else:\n",
        "#       destination = '{}/{}.mp4'.format(path,episode)\n",
        "#       os.rename(base_dir+i,destination)\n",
        "    \n",
        "#   else:\n",
        "#     print('Not default')\n",
        "#     default = False\n",
        "#     break\n",
        "\n",
        "# if not default:\n",
        "#   title = input('Enter the Name ') \n",
        "#   season = input('Enter the Season')\n",
        "#   episodes = sorter([f for f in listdir(base_dir) if isfile(join(base_dir, f))])\n",
        "#   for episode in episodes:\n",
        "#     path = '{}/{}/{}'.format(base,title,season)\n",
        "#     if not os.path.exists(path):\n",
        "#       os.makedirs(path)\n",
        "#     if not '.mp4' in episode or 'mkv' in episode:\n",
        "#       print(base_dir+episode)\n",
        "      \n",
        "#       subprocess.call('ffmpeg -i \"{}\" -vcodec copy -acodec copy \"{}/{}.mp4\"'.format(base_dir+episode,path,episode.replace('.mkv',''),base_dir+episode),shell=True)\n",
        "#     else:\n",
        "#       destination = '{}/{}'.format(path,episode.replace('.1',''))\n",
        "#       os.rename(base_dir+episode,destination)\n",
        "    \n",
        "\n",
        "      \n",
        "      \n",
        "      \n",
        "\n",
        "# #####################################\n",
        "# ######## Telegram Bot       #########\n",
        "# #####################################\n",
        "import threading\n",
        "limit = 10\n",
        "count = 0\n",
        "lock = threading.Lock()\n",
        "def start_new(state = False):\n",
        "  global limit,count\n",
        "  \n",
        "  if count < limit:\n",
        "    count = count +1\n",
        "    print(count)\n",
        "    return True\n",
        "  else:\n",
        "    if state:\n",
        "      count = count -1\n",
        "      return count\n",
        "    return False\n",
        "\n",
        "\n",
        "\n",
        "\n",
        "\n",
        "\n",
        "\n",
        "capt ='''**{}**'''\n",
        "\n",
        "logg =\"**{}  \\n {}%** complete\"\n",
        "\n",
        "def bar(client, current, total,message,name):\n",
        "    user_id = message.chat.id\n",
        "    mes_id = message.message_id\n",
        "    with lock:\n",
        "      try:\n",
        "          m = client.edit_message_text(chat_id=user_id,message_id=mes_id,text=logg.format(name ,str(int(100*current/total))),parse_mode=\"markdown\")\n",
        "          time.sleep(2)\n",
        "      except FloodWait as e:\n",
        "        print('normal error')\n",
        "        time.sleep(e.x)\n",
        "      except:\n",
        "        time.sleep(1)\n",
        "        pass\n",
        "     \n",
        "\n",
        "def Tasker(link,message,Title):\n",
        "    complete =  False\n",
        "    notify = False\n",
        "    while not complete:\n",
        "      try:\n",
        "        if start_new():\n",
        "          if not notify:\n",
        "            init = message.reply('Sending {}'.format(Title),disable_notification=True)\n",
        "            notify = True\n",
        "          print('sending {}'.format(Title))\n",
        "          data=message.reply_video(video=link,progress=bar,progress_args= (init,Title),disable_notification=True,caption=capt.format(Title),parse_mode=\"markdown\")\n",
        "          fid=data.video.file_id\n",
        "          print('sent {}'.format(Title))\n",
        "          complete = True\n",
        "          print(start_new(complete))\n",
        "          name,season,episode=Title.split('--')\n",
        "          Series.document(name+'/'+season+'/'+episode).set({'id':fid})\n",
        "\n",
        "      except FloodWait as e:\n",
        "        print('Error')\n",
        "        time.sleep(e.x)\n",
        "\n",
        "  \n",
        "\n",
        "\n",
        "\n",
        "\n",
        "\n",
        "bot_key=\"489892906:AAEZwzd4A2mXDhQyixEYXLHuBZ1paO7aqWs\"\n",
        "  \n",
        "from pyrogram import Client, Filters\n",
        "from pyrogram.errors import FloodWait\n",
        "id =\"870972\"\n",
        "hash =\"ce2efaca02dfcd110941be6025e9ac0d\"\n",
        "app = Client(\"my_bot\",api_hash=hash,api_id=id,bot_token=bot_key)\n",
        "\n",
        "@app.on_message(Filters.channel)\n",
        "def send_file(client, message):\n",
        "  for name in os.listdir(base):\n",
        "    path = base+'/'+name\n",
        "    for season in os.listdir(path):\n",
        "      season_path = path+'/'+season\n",
        "      for epi in sorter(os.listdir(season_path)):\n",
        "        epi_path = season_path+'/'+epi\n",
        "        Title = '{}--{}--{} '.format(name,season,epi)\n",
        "        sent= False\n",
        "        while not sent:\n",
        "          try:\n",
        "            x = threading.Thread(target=Tasker, args=(epi_path,message,Title,))\n",
        "            x.start()\n",
        "            time.sleep(2)\n",
        "            sent = True\n",
        "          except FloodWait as e:\n",
        "            print('Error sending the init message')\n",
        "            time.sleep(e.x)\n",
        "  \n",
        "    \n",
        "app.run()\n",
        "  \n",
        "  \n",
        "  \n",
        "  \n",
        "  \n",
        "  \n"
      ],
      "execution_count": 0,
      "outputs": [
        {
          "output_type": "stream",
          "text": [
            "normal error\n",
            "normal error\n",
            "normal error\n",
            "normal error\n",
            "normal error\n",
            "normal error\n",
            "normal error\n",
            "normal error\n",
            "normal error\n",
            "normal error\n",
            "normal error\n",
            "normal error\n",
            "normal error\n",
            "normal error\n",
            "normal error\n",
            "normal error\n",
            "normal error\n",
            "normal error\n",
            "normal error\n",
            "normal error\n",
            "normal error\n",
            "normal error\n",
            "normal error\n",
            "normal error\n",
            "normal error\n",
            "normal error\n",
            "normal error\n",
            "normal error\n",
            "normal error\n",
            "normal error\n",
            "normal error\n",
            "normal error\n",
            "normal error\n",
            "normal error\n",
            "normal error\n",
            "normal error\n",
            "normal error\n",
            "normal error\n",
            "normal error\n",
            "normal error\n",
            "normal error\n"
          ],
          "name": "stdout"
        }
      ]
    },
    {
      "cell_type": "code",
      "metadata": {
        "id": "OjvNDb5kfbo7",
        "colab_type": "code",
        "outputId": "59754502-dbf9-42c8-d846-4326e1f22afb",
        "colab": {
          "base_uri": "https://localhost:8080/",
          "height": 267
        }
      },
      "source": [
        "!ffmpeg -i ./Young Sheldon S02E13 [480p] [Ariamovie].mkv -vcodec copy -acodec copy ./MP4/YoungSheldon/S02/E13.mp4"
      ],
      "execution_count": 0,
      "outputs": [
        {
          "output_type": "stream",
          "text": [
            "ffmpeg version 3.4.6-0ubuntu0.18.04.1 Copyright (c) 2000-2019 the FFmpeg developers\n",
            "  built with gcc 7 (Ubuntu 7.3.0-16ubuntu3)\n",
            "  configuration: --prefix=/usr --extra-version=0ubuntu0.18.04.1 --toolchain=hardened --libdir=/usr/lib/x86_64-linux-gnu --incdir=/usr/include/x86_64-linux-gnu --enable-gpl --disable-stripping --enable-avresample --enable-avisynth --enable-gnutls --enable-ladspa --enable-libass --enable-libbluray --enable-libbs2b --enable-libcaca --enable-libcdio --enable-libflite --enable-libfontconfig --enable-libfreetype --enable-libfribidi --enable-libgme --enable-libgsm --enable-libmp3lame --enable-libmysofa --enable-libopenjpeg --enable-libopenmpt --enable-libopus --enable-libpulse --enable-librubberband --enable-librsvg --enable-libshine --enable-libsnappy --enable-libsoxr --enable-libspeex --enable-libssh --enable-libtheora --enable-libtwolame --enable-libvorbis --enable-libvpx --enable-libwavpack --enable-libwebp --enable-libx265 --enable-libxml2 --enable-libxvid --enable-libzmq --enable-libzvbi --enable-omx --enable-openal --enable-opengl --enable-sdl2 --enable-libdc1394 --enable-libdrm --enable-libiec61883 --enable-chromaprint --enable-frei0r --enable-libopencv --enable-libx264 --enable-shared\n",
            "  libavutil      55. 78.100 / 55. 78.100\n",
            "  libavcodec     57.107.100 / 57.107.100\n",
            "  libavformat    57. 83.100 / 57. 83.100\n",
            "  libavdevice    57. 10.100 / 57. 10.100\n",
            "  libavfilter     6.107.100 /  6.107.100\n",
            "  libavresample   3.  7.  0 /  3.  7.  0\n",
            "  libswscale      4.  8.100 /  4.  8.100\n",
            "  libswresample   2.  9.100 /  2.  9.100\n",
            "  libpostproc    54.  7.100 / 54.  7.100\n",
            "\u001b[1;31m./Young: No such file or directory\n",
            "\u001b[0m"
          ],
          "name": "stdout"
        }
      ]
    },
    {
      "cell_type": "code",
      "metadata": {
        "id": "B64SRws7yHFZ",
        "colab_type": "code",
        "outputId": "c0fa7ff0-ecdd-4209-8d51-772467ef7eda",
        "colab": {
          "base_uri": "https://localhost:8080/",
          "height": 407
        }
      },
      "source": [
        "def sorter(dir):\n",
        "  dir.sort()\n",
        "  return dir\n",
        "\n",
        "import os\n",
        "base ='./MP4'\n",
        "for name in os.listdir(base):\n",
        "  path = base+'/'+name\n",
        "  for season in os.listdir(path):\n",
        "    season_path = path+'/'+season\n",
        "    for epi in sorter(os.listdir(season_path)):\n",
        "      epi_path = season_path+'/'+epi\n",
        "      Title = '{} {} {} '.format(name,season,epi)\n",
        "      #init = message.reply('Sending {}'.format(Title))\n",
        "      print(Title)\n"
      ],
      "execution_count": 0,
      "outputs": [
        {
          "output_type": "stream",
          "text": [
            "YoungSheldon S02 E01.mp4 \n",
            "YoungSheldon S02 E02.mp4 \n",
            "YoungSheldon S02 E03.mp4 \n",
            "YoungSheldon S02 E04.mp4 \n",
            "YoungSheldon S02 E05.mp4 \n",
            "YoungSheldon S02 E06.mp4 \n",
            "YoungSheldon S02 E07.mp4 \n",
            "YoungSheldon S02 E08.mp4 \n",
            "YoungSheldon S02 E09.mp4 \n",
            "YoungSheldon S02 E10.mp4 \n",
            "YoungSheldon S02 E11.mp4 \n",
            "YoungSheldon S02 E12.mp4 \n",
            "YoungSheldon S02 E13.mp4 \n",
            "YoungSheldon S02 E14.mp4 \n",
            "YoungSheldon S02 E15.mp4 \n",
            "YoungSheldon S02 E16.mp4 \n",
            "YoungSheldon S02 E17.mp4 \n",
            "YoungSheldon S02 E18.mp4 \n",
            "YoungSheldon S02 E19.mp4 \n",
            "YoungSheldon S02 E20.mp4 \n",
            "YoungSheldon S02 E21.mp4 \n",
            "YoungSheldon S02 E22.mp4 \n"
          ],
          "name": "stdout"
        }
      ]
    },
    {
      "cell_type": "code",
      "metadata": {
        "id": "CT1ituvXzYWC",
        "colab_type": "code",
        "outputId": "9dd26e04-4564-4e8d-9601-386bb0f895e1",
        "colab": {
          "base_uri": "https://localhost:8080/",
          "height": 34
        }
      },
      "source": [
        "'1223345678765432765'[-10:]"
      ],
      "execution_count": 0,
      "outputs": [
        {
          "output_type": "execute_result",
          "data": {
            "text/plain": [
              "'8765432765'"
            ]
          },
          "metadata": {
            "tags": []
          },
          "execution_count": 17
        }
      ]
    },
    {
      "cell_type": "code",
      "metadata": {
        "id": "ulGdYVRO6Diy",
        "colab_type": "code",
        "outputId": "d27b1bd9-95bf-42f1-dfaa-7e3f0fe6b50c",
        "colab": {
          "base_uri": "https://localhost:8080/",
          "height": 392
        }
      },
      "source": [
        "links"
      ],
      "execution_count": 0,
      "outputs": [
        {
          "output_type": "execute_result",
          "data": {
            "text/plain": [
              "['http://proxy-server.herokuapp.com/http://srv4.uploadsara.net/user/sajjad/Tv%20Series/Chilling%20Adventures%20of%20Sabrina/Chilling%20Adventures%20of%20Sabrina%20S01E01%20%5B480p%5D%20%5BAriamovie%5D.mkv',\n",
              " 'http://proxy-server.herokuapp.com/http://srv4.uploadsara.net/user/sajjad/Tv%20Series/Chilling%20Adventures%20of%20Sabrina/Chilling%20Adventures%20of%20Sabrina%20S01E02%20%5B480p%5D%20%5BAriamovie%5D.mkv',\n",
              " 'http://proxy-server.herokuapp.com/http://srv4.uploadsara.net/user/sajjad/Tv%20Series/Chilling%20Adventures%20of%20Sabrina/Chilling%20Adventures%20of%20Sabrina%20S01E03%20%5B480p%5D%20%5BAriamovie%5D.mkv',\n",
              " 'https://proxy12.herokuapp.com/http://srv4.uploadsara.net/user/sajjad/Tv%20Series/Chilling%20Adventures%20of%20Sabrina/Chilling%20Adventures%20of%20Sabrina%20S01E04%20%5B480p%5D%20%5BAriamovie%5D.mkv',\n",
              " 'https://proxy12.herokuapp.com/http://srv4.uploadsara.net/user/sajjad/Tv%20Series/Chilling%20Adventures%20of%20Sabrina/Chilling%20Adventures%20of%20Sabrina%20S01E05%20%5B480p%5D%20%5BAriamovie%5D.mkv',\n",
              " 'https://proxy12.herokuapp.com/http://srv4.uploadsara.net/user/sajjad/Tv%20Series/Chilling%20Adventures%20of%20Sabrina/Chilling%20Adventures%20of%20Sabrina%20S01E06%20%5B480p%5D%20%5BAriamovie%5D.mkv',\n",
              " 'https://proxy13.herokuapp.com/http://srv4.uploadsara.net/user/sajjad/Tv%20Series/Chilling%20Adventures%20of%20Sabrina/Chilling%20Adventures%20of%20Sabrina%20S01E07%20%5B480p%5D%20%5BAriamovie%5D.mkv',\n",
              " 'https://proxy13.herokuapp.com/http://srv4.uploadsara.net/user/sajjad/Tv%20Series/Chilling%20Adventures%20of%20Sabrina/Chilling%20Adventures%20of%20Sabrina%20S01E08%20%5B480p%5D%20%5BAriamovie%5D.mkv',\n",
              " 'https://proxy13.herokuapp.com/http://srv4.uploadsara.net/user/sajjad/Tv%20Series/Chilling%20Adventures%20of%20Sabrina/Chilling%20Adventures%20of%20Sabrina%20S01E09%20%5B480p%5D%20%5BAriamovie%5D.mkv',\n",
              " 'https://proxy16.herokuapp.com/http://srv4.uploadsara.net/user/sajjad/Tv%20Series/Chilling%20Adventures%20of%20Sabrina/Chilling%20Adventures%20of%20Sabrina%20S01E10%20%5B480p%5D%20%5BAriamovie%5D.mkv',\n",
              " 'https://proxy16.herokuapp.com/http://srv4.uploadsara.net/user/sajjad/Tv%20Series/Chilling%20Adventures%20of%20Sabrina/Chilling%20Adventures%20of%20Sabrina%20S01E11%20%5B480p%5D%20%5BAriamovie%5D.mkv',\n",
              " 'https://proxy16.herokuapp.com/http://srv4.uploadsara.net/user/sajjad/Tv%20Series/Chilling%20Adventures%20of%20Sabrina/Chilling%20Adventures%20of%20Sabrina%20S02E01%20%5B480p%5D%20%5BAriamovie%5D.mkv',\n",
              " 'https://proxy18.herokuapp.com/http://srv4.uploadsara.net/user/sajjad/Tv%20Series/Chilling%20Adventures%20of%20Sabrina/Chilling%20Adventures%20of%20Sabrina%20S02E02%20%5B480p%5D%20%5BAriamovie%5D.mkv',\n",
              " 'https://proxy18.herokuapp.com/http://srv4.uploadsara.net/user/sajjad/Tv%20Series/Chilling%20Adventures%20of%20Sabrina/Chilling%20Adventures%20of%20Sabrina%20S02E03%20%5B480p%5D%20%5BAriamovie%5D.mkv',\n",
              " 'https://proxy18.herokuapp.com/http://srv4.uploadsara.net/user/sajjad/Tv%20Series/Chilling%20Adventures%20of%20Sabrina/Chilling%20Adventures%20of%20Sabrina%20S02E04%20%5B480p%5D%20%5BAriamovie%5D.mkv',\n",
              " 'https://proxy67.herokuapp.com/http://srv4.uploadsara.net/user/sajjad/Tv%20Series/Chilling%20Adventures%20of%20Sabrina/Chilling%20Adventures%20of%20Sabrina%20S02E08%20%5B480p%5D%20%5BAriamovie%5D.mkv',\n",
              " 'https://proxy67.herokuapp.com/http://srv4.uploadsara.net/user/sajjad/Tv%20Series/Chilling%20Adventures%20of%20Sabrina/Chilling%20Adventures%20of%20Sabrina%20S02E09%20%5B480p%5D%20%5BAriamovie%5D.mkv',\n",
              " 'https://proxy87.herokuapp.com/http://srv4.uploadsara.net/user/sajjad/Tv%20Series/Chilling%20Adventures%20of%20Sabrina/Chilling%20Adventures%20of%20Sabrina%20S02E05%20%5B480p%5D%20%5BAriamovie%5D.mkv',\n",
              " 'https://proxy87.herokuapp.com/http://srv4.uploadsara.net/user/sajjad/Tv%20Series/Chilling%20Adventures%20of%20Sabrina/Chilling%20Adventures%20of%20Sabrina%20S02E06%20%5B480p%5D%20%5BAriamovie%5D.mkv',\n",
              " 'https://proxy87.herokuapp.com/http://srv4.uploadsara.net/user/sajjad/Tv%20Series/Chilling%20Adventures%20of%20Sabrina/Chilling%20Adventures%20of%20Sabrina%20S02E07%20%5B480p%5D%20%5BAriamovie%5D.mkv']"
            ]
          },
          "metadata": {
            "tags": []
          },
          "execution_count": 20
        }
      ]
    },
    {
      "cell_type": "code",
      "metadata": {
        "id": "3v5FqMmt85uS",
        "colab_type": "code",
        "outputId": "b4a71354-010a-4566-f56c-012225a68201",
        "colab": {
          "base_uri": "https://localhost:8080/",
          "height": 256
        }
      },
      "source": [
        "import re\n",
        "sample = ''' --2019-07-28 16:40:39--  https://proxy18.herokuapp.com/http://srv4.uploadsara.net/user/sajjad/Tv%20Series/Chilling%20Adventures%20of%20Sabrina/Chilling%20Adventures%20of%20Sabrina%20S02E02%20%5B480p%5D%20%5BAriamovie%5D.mkv\n",
        "Resolving proxy18.herokuapp.com (proxy18.herokuapp.com)... 34.238.201.47, 52.45.0.85, 18.213.66.123, ...\n",
        "Connecting to proxy18.herokuapp.com (proxy18.herokuapp.com)|34.238.201.47|:443... connected.\n",
        "HTTP request sent, awaiting response... 200 OK\n",
        "Length: 142105397 (136M) [application/octet-stream]\n",
        "Saving to: ‘Chilling Adventures of Sabrina S02E02 [480p] [Ariamovie].mkv’\n",
        "\n",
        "     0K .......... .......... .......... .......... ..........  0% 28.5K 81m16s\n",
        "    50K .......... .......... .......... .......... ..........  0% 21.0K 95m41s\n",
        "   100K .......... .......... .......... .......... ..........  0% 23.3K 96m49s\n",
        "   150K .......... .......... .......... .......... ..........  0% 7.12K 2h33m\n",
        "   200K .......... .......... .......... .......... ..........  0% 10.3K 2h47m\n",
        "   250K .......... .......... .......... .......... ..........  0% 26.6K 2h34m\n",
        "   300K .......... .......... .......... .......... ..........  0% 20.1K 2h28m\n",
        "   350K .......... .......... .......... .......... ..........  0% 18.9K 2h25m\n",
        "   400K .......... .......... .......... .......... ..........  0% 1.73K 4h36m\n",
        "   450K .......... .......... .......... .......... ..........  0% 16.9K 4h22m\n",
        "   500K .......... .......... .......... .......... ..........  0% 5.79K 4h34m\n",
        "   550K .......... .......... .......... .......... ..'''\n",
        "\n",
        "sample2 = ' 200% '\n",
        "def progress(text):\n",
        "  percent = re.compile('\\d{1,3}%' )\n",
        "  try:\n",
        "    print(percent.findall(text))\n",
        "    data = percent.findall(text)[0]\n",
        "  except:\n",
        "    data = False\n",
        "  return data\n",
        "\n",
        "\n",
        "def ETA(text):\n",
        "  eta = re.compile('\\d{1,3}[a-z]\\d{1,3}[a-z]')\n",
        "  try:\n",
        "    data=  eta.findall(text)[0]\n",
        "  except:\n",
        "    data = False\n",
        "  return data\n",
        "t=sample[-200:]\n",
        "print(progress(t))\n",
        "print(ETA(t))"
      ],
      "execution_count": 0,
      "outputs": [
        {
          "output_type": "stream",
          "text": [
            "['0%', '0%']\n",
            "0%\n",
            "4h22m\n"
          ],
          "name": "stdout"
        },
        {
          "output_type": "error",
          "ename": "NameError",
          "evalue": "ignored",
          "traceback": [
            "\u001b[0;31m---------------------------------------------------------------------------\u001b[0m",
            "\u001b[0;31mNameError\u001b[0m                                 Traceback (most recent call last)",
            "\u001b[0;32m<ipython-input-11-00807a46b9c3>\u001b[0m in \u001b[0;36m<module>\u001b[0;34m()\u001b[0m\n\u001b[1;32m     42\u001b[0m \u001b[0mprint\u001b[0m\u001b[0;34m(\u001b[0m\u001b[0mprogress\u001b[0m\u001b[0;34m(\u001b[0m\u001b[0mt\u001b[0m\u001b[0;34m)\u001b[0m\u001b[0;34m)\u001b[0m\u001b[0;34m\u001b[0m\u001b[0;34m\u001b[0m\u001b[0m\n\u001b[1;32m     43\u001b[0m \u001b[0mprint\u001b[0m\u001b[0;34m(\u001b[0m\u001b[0mETA\u001b[0m\u001b[0;34m(\u001b[0m\u001b[0mt\u001b[0m\u001b[0;34m)\u001b[0m\u001b[0;34m)\u001b[0m\u001b[0;34m\u001b[0m\u001b[0;34m\u001b[0m\u001b[0m\n\u001b[0;32m---> 44\u001b[0;31m \u001b[0mprint\u001b[0m\u001b[0;34m(\u001b[0m\u001b[0mb\u001b[0m\u001b[0;34m)\u001b[0m\u001b[0;34m\u001b[0m\u001b[0;34m\u001b[0m\u001b[0m\n\u001b[0m",
            "\u001b[0;31mNameError\u001b[0m: name 'b' is not defined"
          ]
        }
      ]
    },
    {
      "cell_type": "code",
      "metadata": {
        "id": "gLAzBYu0QDII",
        "colab_type": "code",
        "colab": {}
      },
      "source": [
        ""
      ],
      "execution_count": 0,
      "outputs": []
    },
    {
      "cell_type": "code",
      "metadata": {
        "id": "-6MPWnm-_YMT",
        "colab_type": "code",
        "outputId": "a3cb40d0-a127-4609-9cce-23f13c4ede44",
        "colab": {
          "base_uri": "https://localhost:8080/",
          "height": 34
        }
      },
      "source": [
        "text =  'Young Sheldon S02E01 [480p] [Ariamovie].mkv   '\n",
        "# details = re.compile('[a-zA-Z]\\d{1,2}[a-zA-Z]\\d{1,2}')\n",
        "# text=''.join(e for e in text if e.isalnum())\n",
        "# ans =details.findall(text)[0]\n",
        "\n",
        "def Name(txt):\n",
        "  details = re.compile('[a-zA-Z]\\d{1,2}[a-zA-Z]\\d{1,2}')\n",
        "  txt=''.join(e for e in txt if e.isalnum())\n",
        "  ans =details.findall(txt)[0]\n",
        "  season,episode = ans[:3],ans[3:]\n",
        "  pos=txt.find(ans)\n",
        "  return txt[:pos],season,episode\n",
        "\n",
        "  \n",
        "\n",
        "print(Name(text))"
      ],
      "execution_count": 0,
      "outputs": [
        {
          "output_type": "stream",
          "text": [
            "('YoungSheldon', 'S02', 'E01')\n"
          ],
          "name": "stdout"
        }
      ]
    },
    {
      "cell_type": "code",
      "metadata": {
        "id": "pyaanRITpFL9",
        "colab_type": "code",
        "outputId": "638c3c63-d13b-4f8e-bcc4-4c566ee7e823",
        "colab": {
          "base_uri": "https://localhost:8080/",
          "height": 125
        }
      },
      "source": [
        "\n",
        "\n",
        "\n",
        "\n",
        "\n",
        "bot_key=\"399340337:AAG-yD4Xpfo1cCOfoLJLI9lDSE7_fbEtqiA\"\n",
        "import time  \n",
        "from pyrogram import Client, Filters\n",
        "from pyrogram.errors import FloodWait\n",
        "id =\"870972\"\n",
        "hash =\"ce2efaca02dfcd110941be6025e9ac0d\"\n",
        "app = Client(\"my_bot\",api_hash=hash,api_id=id,bot_token=bot_key)\n",
        "\n",
        "@app.on_message(Filters.channel)\n",
        "def send_file(client, message):\n",
        "  for t in doc:\n",
        "    Season =t\n",
        "    episodes = get_episodes(doc[t])\n",
        "    for j in episodes:\n",
        "      episode = j\n",
        "      id = episodes[j]\n",
        "      caption = '{} {} {}'.format(Title,Season,episode)\n",
        "   \n",
        "      while True:\n",
        "        try:\n",
        "          message.reply_video(id,disable_notification=True,caption=caption)\n",
        "          time.sleep(2)\n",
        "          break\n",
        "        except FloodWait as e:\n",
        "          print('Error')\n",
        "          time.sleep(e.x)\n",
        "  print('done!')\n",
        "       \n",
        "\n",
        "    \n",
        "app.run()\n"
      ],
      "execution_count": 0,
      "outputs": [
        {
          "output_type": "stream",
          "text": [
            "/usr/local/lib/python3.6/dist-packages/ipykernel_launcher.py:39: DeprecationWarning: 'Collection.get' is deprecated:  please use 'Collection.stream' instead.\n"
          ],
          "name": "stderr"
        },
        {
          "output_type": "stream",
          "text": [
            "Error\n",
            "done!\n",
            "Error\n",
            "done!\n"
          ],
          "name": "stdout"
        }
      ]
    },
    {
      "cell_type": "code",
      "metadata": {
        "id": "UNTHalPupopG",
        "colab_type": "code",
        "colab": {}
      },
      "source": [
        "data=get_series_available(Series,object=True)\n",
        "Title = 'Da Vincis Demons '\n",
        "ref = data[Title]\n",
        "doc = get_seasons(ref)\n"
      ],
      "execution_count": 0,
      "outputs": []
    },
    {
      "cell_type": "code",
      "metadata": {
        "id": "k3zkhldKtDwR",
        "colab_type": "code",
        "outputId": "98888e15-7195-47c6-afac-c37585ca6cea",
        "colab": {
          "base_uri": "https://localhost:8080/",
          "height": 52
        }
      },
      "source": [
        "!wget http://185.236.37.50/files/Serial/3Below%3A%20Tales%20of%20Arcadia/s01/720/"
      ],
      "execution_count": 0,
      "outputs": [
        {
          "output_type": "stream",
          "text": [
            "--2019-07-30 15:34:34--  http://185.236.37.50/files/Serial/3Below%3A%20Tales%20of%20Arcadia/s01/720/\n",
            "Connecting to 185.236.37.50:80... ^C\n"
          ],
          "name": "stdout"
        }
      ]
    },
    {
      "cell_type": "code",
      "metadata": {
        "id": "e0I4EixR5yuI",
        "colab_type": "code",
        "outputId": "bd78907d-bfbf-42bd-a6db-9a9d7bf7decf",
        "colab": {
          "base_uri": "https://localhost:8080/",
          "height": 217
        }
      },
      "source": [
        "!ps -e"
      ],
      "execution_count": 0,
      "outputs": [
        {
          "output_type": "stream",
          "text": [
            "    PID TTY          TIME CMD\n",
            "      1 ?        00:00:00 run.sh\n",
            "      6 ?        00:00:15 node\n",
            "     25 ?        00:00:31 jupyter-noteboo\n",
            "    130 ?        00:00:01 tail\n",
            "    138 ?        00:00:20 python3\n",
            "    199 ?        00:00:00 drive\n",
            "    337 ?        00:13:10 drive\n",
            "    383 ?        00:00:01 tail\n",
            "    384 ?        00:00:00 grep\n",
            "   5023 ?        00:00:00 ps\n"
          ],
          "name": "stdout"
        }
      ]
    },
    {
      "cell_type": "code",
      "metadata": {
        "id": "Umz3HbeaG-9q",
        "colab_type": "code",
        "outputId": "75aa0308-654c-4b34-e2ba-a5ceefa65d0c",
        "colab": {
          "base_uri": "https://localhost:8080/",
          "height": 35
        }
      },
      "source": [
        "base_dir"
      ],
      "execution_count": 0,
      "outputs": [
        {
          "output_type": "execute_result",
          "data": {
            "text/plain": [
              "'/content/drive/My Drive/Downloads/'"
            ]
          },
          "metadata": {
            "tags": []
          },
          "execution_count": 109
        }
      ]
    },
    {
      "cell_type": "code",
      "metadata": {
        "id": "CzXA7q6lQF8p",
        "colab_type": "code",
        "outputId": "593d640b-f52d-400c-c94c-12e2667ab972",
        "colab": {
          "base_uri": "https://localhost:8080/",
          "height": 264
        }
      },
      "source": [
        "import subprocess\n",
        "old=os.getcwd()\n",
        "os.chdir(path)\n",
        "crazy=path.replace(path.split('/')[-1],'')\n",
        "for i in os.listdir(crazy):\n",
        "  name = i.replace('..mp4','.mp4')\n",
        "  os.rename(crazy+'/'+i,path+'/'+name)\n",
        "\n",
        "\n",
        "os.chdir(old)"
      ],
      "execution_count": 0,
      "outputs": [
        {
          "output_type": "error",
          "ename": "OSError",
          "evalue": "ignored",
          "traceback": [
            "\u001b[0;31m---------------------------------------------------------------------------\u001b[0m",
            "\u001b[0;31mOSError\u001b[0m                                   Traceback (most recent call last)",
            "\u001b[0;32m<ipython-input-129-c16b1603da44>\u001b[0m in \u001b[0;36m<module>\u001b[0;34m()\u001b[0m\n\u001b[1;32m      5\u001b[0m \u001b[0;32mfor\u001b[0m \u001b[0mi\u001b[0m \u001b[0;32min\u001b[0m \u001b[0mos\u001b[0m\u001b[0;34m.\u001b[0m\u001b[0mlistdir\u001b[0m\u001b[0;34m(\u001b[0m\u001b[0mcrazy\u001b[0m\u001b[0;34m)\u001b[0m\u001b[0;34m:\u001b[0m\u001b[0;34m\u001b[0m\u001b[0;34m\u001b[0m\u001b[0m\n\u001b[1;32m      6\u001b[0m   \u001b[0mname\u001b[0m \u001b[0;34m=\u001b[0m \u001b[0mi\u001b[0m\u001b[0;34m.\u001b[0m\u001b[0mreplace\u001b[0m\u001b[0;34m(\u001b[0m\u001b[0;34m'..mp4'\u001b[0m\u001b[0;34m,\u001b[0m\u001b[0;34m'.mp4'\u001b[0m\u001b[0;34m)\u001b[0m\u001b[0;34m\u001b[0m\u001b[0;34m\u001b[0m\u001b[0m\n\u001b[0;32m----> 7\u001b[0;31m   \u001b[0mos\u001b[0m\u001b[0;34m.\u001b[0m\u001b[0mrename\u001b[0m\u001b[0;34m(\u001b[0m\u001b[0mcrazy\u001b[0m\u001b[0;34m+\u001b[0m\u001b[0;34m'/'\u001b[0m\u001b[0;34m+\u001b[0m\u001b[0mi\u001b[0m\u001b[0;34m,\u001b[0m\u001b[0mpath\u001b[0m\u001b[0;34m+\u001b[0m\u001b[0;34m'/'\u001b[0m\u001b[0;34m+\u001b[0m\u001b[0mname\u001b[0m\u001b[0;34m)\u001b[0m\u001b[0;34m\u001b[0m\u001b[0;34m\u001b[0m\u001b[0m\n\u001b[0m\u001b[1;32m      8\u001b[0m \u001b[0;34m\u001b[0m\u001b[0m\n\u001b[1;32m      9\u001b[0m \u001b[0;34m\u001b[0m\u001b[0m\n",
            "\u001b[0;31mOSError\u001b[0m: [Errno 22] Invalid argument: '/content/drive/My Drive/Downloads/MP4/Shingeki_no_Kyojin//S01 & S02' -> '/content/drive/My Drive/Downloads/MP4/Shingeki_no_Kyojin/S01 & S02/S01 & S02'"
          ]
        }
      ]
    },
    {
      "cell_type": "code",
      "metadata": {
        "id": "hCTR3CsrQyYz",
        "colab_type": "code",
        "outputId": "b0cf102d-56a9-4cae-fb26-8722e513b3f0",
        "colab": {
          "base_uri": "https://localhost:8080/",
          "height": 35
        }
      },
      "source": [
        "import subprocess\n",
        "subprocess.call('rm *.*'.format(base_dir),shell=True)"
      ],
      "execution_count": 0,
      "outputs": [
        {
          "output_type": "execute_result",
          "data": {
            "text/plain": [
              "1"
            ]
          },
          "metadata": {
            "tags": []
          },
          "execution_count": 45
        }
      ]
    },
    {
      "cell_type": "code",
      "metadata": {
        "id": "flrDTY4G66oN",
        "colab_type": "code",
        "colab": {}
      },
      "source": [
        "t=\"https://v1.4animu.me/Shingeki-no-Kyojin-Season-3-Part-2/Shingeki-no-Kyojin-Season-3-Part-2-Episode-{}-1080p.mp4\""
      ],
      "execution_count": 0,
      "outputs": []
    },
    {
      "cell_type": "code",
      "metadata": {
        "id": "e3cTuvVm6-6g",
        "colab_type": "code",
        "outputId": "bc525274-3d96-4373-ba61-bfc90512ab48",
        "colab": {
          "base_uri": "https://localhost:8080/",
          "height": 35
        }
      },
      "source": [
        "y='{} {} {}'.format(1,2,3)\n",
        "print(y.split(' '))"
      ],
      "execution_count": 0,
      "outputs": [
        {
          "output_type": "stream",
          "text": [
            "['1', '2', '3']\n"
          ],
          "name": "stdout"
        }
      ]
    },
    {
      "cell_type": "code",
      "metadata": {
        "id": "LNk5NpMU8h7p",
        "colab_type": "code",
        "colab": {}
      },
      "source": [
        "t=\"https://v1.4animu.me/Dororo/Dororo-Episode-{}-1080p.mp4\"\n",
        "filews =[]\n",
        "for i in range(1,11):\n",
        "  filews.append(t.format(str(i).zfill(2)))\n",
        "  "
      ],
      "execution_count": 0,
      "outputs": []
    },
    {
      "cell_type": "code",
      "metadata": {
        "id": "6KmYsF3k8iiT",
        "colab_type": "code",
        "outputId": "28714120-4665-4c3a-8767-9690e77426fb",
        "colab": {
          "base_uri": "https://localhost:8080/",
          "height": 219
        }
      },
      "source": [
        "files"
      ],
      "execution_count": 0,
      "outputs": [
        {
          "output_type": "execute_result",
          "data": {
            "text/plain": [
              "['https://v1.4animu.me/Shingeki-no-Kyojin-Season-3-Part-2/Shingeki-no-Kyojin-Season-3-Part-2-Episode-01-1080p.mp4',\n",
              " 'https://v1.4animu.me/Shingeki-no-Kyojin-Season-3-Part-2/Shingeki-no-Kyojin-Season-3-Part-2-Episode-02-1080p.mp4',\n",
              " 'https://v1.4animu.me/Shingeki-no-Kyojin-Season-3-Part-2/Shingeki-no-Kyojin-Season-3-Part-2-Episode-03-1080p.mp4',\n",
              " 'https://v1.4animu.me/Shingeki-no-Kyojin-Season-3-Part-2/Shingeki-no-Kyojin-Season-3-Part-2-Episode-04-1080p.mp4',\n",
              " 'https://v1.4animu.me/Shingeki-no-Kyojin-Season-3-Part-2/Shingeki-no-Kyojin-Season-3-Part-2-Episode-05-1080p.mp4',\n",
              " 'https://v1.4animu.me/Shingeki-no-Kyojin-Season-3-Part-2/Shingeki-no-Kyojin-Season-3-Part-2-Episode-06-1080p.mp4',\n",
              " 'https://v1.4animu.me/Shingeki-no-Kyojin-Season-3-Part-2/Shingeki-no-Kyojin-Season-3-Part-2-Episode-07-1080p.mp4',\n",
              " 'https://v1.4animu.me/Shingeki-no-Kyojin-Season-3-Part-2/Shingeki-no-Kyojin-Season-3-Part-2-Episode-08-1080p.mp4',\n",
              " 'https://v1.4animu.me/Shingeki-no-Kyojin-Season-3-Part-2/Shingeki-no-Kyojin-Season-3-Part-2-Episode-09-1080p.mp4',\n",
              " 'https://v1.4animu.me/Shingeki-no-Kyojin-Season-3-Part-2/Shingeki-no-Kyojin-Season-3-Part-2-Episode-10-1080p.mp4']"
            ]
          },
          "metadata": {
            "tags": []
          },
          "execution_count": 23
        }
      ]
    },
    {
      "cell_type": "code",
      "metadata": {
        "id": "KBDuUMRn8xhg",
        "colab_type": "code",
        "outputId": "08b5190a-c7cb-4157-d5f7-45f096b62828",
        "colab": {
          "base_uri": "https://localhost:8080/",
          "height": 183
        }
      },
      "source": [
        "!wget https://v1.4animu.me/Shingeki-no-Kyojin-Season-3-Part-2/Shingeki-no-Kyojin-Season-3-Part-2-Episode-10-1080p.mp4"
      ],
      "execution_count": 0,
      "outputs": [
        {
          "output_type": "stream",
          "text": [
            "--2019-07-31 04:51:34--  https://v1.4animu.me/Shingeki-no-Kyojin-Season-3-Part-2/Shingeki-no-Kyojin-Season-3-Part-2-Episode-10-1080p.mp4\n",
            "Resolving v1.4animu.me (v1.4animu.me)... 46.105.115.8\n",
            "Connecting to v1.4animu.me (v1.4animu.me)|46.105.115.8|:443... connected.\n",
            "HTTP request sent, awaiting response... 200 OK\n",
            "Length: 232452644 (222M) [video/mp4]\n",
            "Saving to: ‘Shingeki-no-Kyojin-Season-3-Part-2-Episode-10-1080p.mp4’\n",
            "\n",
            "geki-no-Kyojin-Seas   1%[                    ]   2.76M   740KB/s    eta 4m 31s ^C\n"
          ],
          "name": "stdout"
        }
      ]
    },
    {
      "cell_type": "code",
      "metadata": {
        "id": "hh84ZdDU-AyU",
        "colab_type": "code",
        "outputId": "c6b6f237-de4f-4f62-f951-7ef587c5451a",
        "colab": {
          "base_uri": "https://localhost:8080/",
          "height": 1000
        }
      },
      "source": [
        "bot_key=\"399340337:AAG-yD4Xpfo1cCOfoLJLI9lDSE7_fbEtqiA\"\n",
        "  \n",
        "from pyrogram import Client, Filters\n",
        "from pyrogram.errors import FloodWait\n",
        "import threading\n",
        "id =\"870972\"\n",
        "hash =\"ce2efaca02dfcd110941be6025e9ac0d\"\n",
        "app = Client(\"my_bot\",api_hash=hash,api_id=id,bot_token=bot_key)\n",
        "capt ='''**{}**'''\n",
        "\n",
        "logg =\"**{}  \\n {}%** complete\"\n",
        "\n",
        "\n",
        "name=input('Enter the Title ')\n",
        "season = input('Enter the Season ')\n",
        "\n",
        "\n",
        "def Tasker(link,message,Title,init):\n",
        "    complete =  False\n",
        "    while not complete:\n",
        "      try:  \n",
        "        fid=message.reply_video(video=link,progress=bar,progress_args= (init,Title),disable_notification=True,caption=capt.format(Title),parse_mode=\"markdown\")\n",
        "        complete = True\n",
        "        name,season,episode=Title.split(' ')\n",
        "        Series.document(name+'/'+season+'/'+episode).set({'id':fid})\n",
        "      except FloodWait as e:\n",
        "        print('Error')\n",
        "        time.sleep(e.x)\n",
        "\n",
        "  \n",
        "\n",
        "\n",
        "\n",
        "def bar(client, current, total,message,name):\n",
        "    user_id = message.chat.id\n",
        "    mes_id = message.message_id\n",
        "    try:\n",
        "        m = client.edit_message_text(chat_id=user_id,disable_notification=True,message_id=mes_id,text=logg.format(name ,str(int(100*current/total))),parse_mode=\"markdown\")\n",
        "        time.sleep(2)\n",
        "    except FloodWait as e::\n",
        "      print('progress error')\n",
        "      time.sleep(e.x)\n",
        "      time.sleep(2)\n",
        "      pass\n",
        "\n",
        "\n",
        "\n",
        "\n",
        "\n",
        "@app.on_message(Filters.channel)\n",
        "def send_file(client, message):  \n",
        "  for link in files:\n",
        "    number = files.index(link)+1\n",
        "    number =str(number).zfill(2)\n",
        "    Title = '{} {} E{}'.format(name,season,number)\n",
        "    sent = False\n",
        "    while not sent:\n",
        "      try:\n",
        "        init = message.reply('Sending {}'.format(Title),disable_notification=True)\n",
        "        x = threading.Thread(target=Tasker, args=(link,message,Title,init,))\n",
        "        x.start()\n",
        "        time.sleep(2)\n",
        "        sent = True\n",
        "      except FloodWait as e:\n",
        "        print('Error sending the init message')\n",
        "        time.sleep(e.x)\n",
        "\n",
        "    \n",
        "app.run()\n",
        "      "
      ],
      "execution_count": 0,
      "outputs": [
        {
          "output_type": "stream",
          "text": [
            "progress error\n",
            "progress error\n",
            "progress error\n",
            "progress error\n",
            "progress error\n",
            "progress error\n",
            "progress error\n",
            "progress error\n",
            "progress error\n",
            "progress error\n",
            "progress error\n",
            "progress error\n",
            "progress error\n",
            "progress error\n",
            "progress error\n",
            "progress error\n",
            "progress error\n",
            "progress error\n",
            "progress error\n",
            "progress error\n",
            "progress error\n",
            "progress error\n",
            "progress error\n",
            "progress error\n",
            "progress error\n"
          ],
          "name": "stdout"
        },
        {
          "output_type": "error",
          "ename": "KeyboardInterrupt",
          "evalue": "ignored",
          "traceback": [
            "\u001b[0;31m---------------------------------------------------------------------------\u001b[0m",
            "\u001b[0;31mKeyboardInterrupt\u001b[0m                         Traceback (most recent call last)",
            "\u001b[0;32m/usr/local/lib/python3.6/dist-packages/ipykernel/kernelbase.py\u001b[0m in \u001b[0;36m_input_request\u001b[0;34m(self, prompt, ident, parent, password)\u001b[0m\n\u001b[1;32m    729\u001b[0m             \u001b[0;32mtry\u001b[0m\u001b[0;34m:\u001b[0m\u001b[0;34m\u001b[0m\u001b[0;34m\u001b[0m\u001b[0m\n\u001b[0;32m--> 730\u001b[0;31m                 \u001b[0mident\u001b[0m\u001b[0;34m,\u001b[0m \u001b[0mreply\u001b[0m \u001b[0;34m=\u001b[0m \u001b[0mself\u001b[0m\u001b[0;34m.\u001b[0m\u001b[0msession\u001b[0m\u001b[0;34m.\u001b[0m\u001b[0mrecv\u001b[0m\u001b[0;34m(\u001b[0m\u001b[0mself\u001b[0m\u001b[0;34m.\u001b[0m\u001b[0mstdin_socket\u001b[0m\u001b[0;34m,\u001b[0m \u001b[0;36m0\u001b[0m\u001b[0;34m)\u001b[0m\u001b[0;34m\u001b[0m\u001b[0;34m\u001b[0m\u001b[0m\n\u001b[0m\u001b[1;32m    731\u001b[0m             \u001b[0;32mexcept\u001b[0m \u001b[0mException\u001b[0m\u001b[0;34m:\u001b[0m\u001b[0;34m\u001b[0m\u001b[0;34m\u001b[0m\u001b[0m\n",
            "\u001b[0;32m/usr/local/lib/python3.6/dist-packages/jupyter_client/session.py\u001b[0m in \u001b[0;36mrecv\u001b[0;34m(self, socket, mode, content, copy)\u001b[0m\n\u001b[1;32m    802\u001b[0m         \u001b[0;32mtry\u001b[0m\u001b[0;34m:\u001b[0m\u001b[0;34m\u001b[0m\u001b[0;34m\u001b[0m\u001b[0m\n\u001b[0;32m--> 803\u001b[0;31m             \u001b[0mmsg_list\u001b[0m \u001b[0;34m=\u001b[0m \u001b[0msocket\u001b[0m\u001b[0;34m.\u001b[0m\u001b[0mrecv_multipart\u001b[0m\u001b[0;34m(\u001b[0m\u001b[0mmode\u001b[0m\u001b[0;34m,\u001b[0m \u001b[0mcopy\u001b[0m\u001b[0;34m=\u001b[0m\u001b[0mcopy\u001b[0m\u001b[0;34m)\u001b[0m\u001b[0;34m\u001b[0m\u001b[0;34m\u001b[0m\u001b[0m\n\u001b[0m\u001b[1;32m    804\u001b[0m         \u001b[0;32mexcept\u001b[0m \u001b[0mzmq\u001b[0m\u001b[0;34m.\u001b[0m\u001b[0mZMQError\u001b[0m \u001b[0;32mas\u001b[0m \u001b[0me\u001b[0m\u001b[0;34m:\u001b[0m\u001b[0;34m\u001b[0m\u001b[0;34m\u001b[0m\u001b[0m\n",
            "\u001b[0;32m/usr/local/lib/python3.6/dist-packages/zmq/sugar/socket.py\u001b[0m in \u001b[0;36mrecv_multipart\u001b[0;34m(self, flags, copy, track)\u001b[0m\n\u001b[1;32m    465\u001b[0m         \"\"\"\n\u001b[0;32m--> 466\u001b[0;31m         \u001b[0mparts\u001b[0m \u001b[0;34m=\u001b[0m \u001b[0;34m[\u001b[0m\u001b[0mself\u001b[0m\u001b[0;34m.\u001b[0m\u001b[0mrecv\u001b[0m\u001b[0;34m(\u001b[0m\u001b[0mflags\u001b[0m\u001b[0;34m,\u001b[0m \u001b[0mcopy\u001b[0m\u001b[0;34m=\u001b[0m\u001b[0mcopy\u001b[0m\u001b[0;34m,\u001b[0m \u001b[0mtrack\u001b[0m\u001b[0;34m=\u001b[0m\u001b[0mtrack\u001b[0m\u001b[0;34m)\u001b[0m\u001b[0;34m]\u001b[0m\u001b[0;34m\u001b[0m\u001b[0;34m\u001b[0m\u001b[0m\n\u001b[0m\u001b[1;32m    467\u001b[0m         \u001b[0;31m# have first part already, only loop while more to receive\u001b[0m\u001b[0;34m\u001b[0m\u001b[0;34m\u001b[0m\u001b[0;34m\u001b[0m\u001b[0m\n",
            "\u001b[0;32mzmq/backend/cython/socket.pyx\u001b[0m in \u001b[0;36mzmq.backend.cython.socket.Socket.recv\u001b[0;34m()\u001b[0m\n",
            "\u001b[0;32mzmq/backend/cython/socket.pyx\u001b[0m in \u001b[0;36mzmq.backend.cython.socket.Socket.recv\u001b[0;34m()\u001b[0m\n",
            "\u001b[0;32mzmq/backend/cython/socket.pyx\u001b[0m in \u001b[0;36mzmq.backend.cython.socket._recv_copy\u001b[0;34m()\u001b[0m\n",
            "\u001b[0;32m/usr/local/lib/python3.6/dist-packages/zmq/backend/cython/checkrc.pxd\u001b[0m in \u001b[0;36mzmq.backend.cython.checkrc._check_rc\u001b[0;34m()\u001b[0m\n",
            "\u001b[0;31mKeyboardInterrupt\u001b[0m: ",
            "\nDuring handling of the above exception, another exception occurred:\n",
            "\u001b[0;31mKeyboardInterrupt\u001b[0m                         Traceback (most recent call last)",
            "\u001b[0;32m<ipython-input-67-47522370994e>\u001b[0m in \u001b[0;36m<module>\u001b[0;34m()\u001b[0m\n\u001b[1;32m     12\u001b[0m \u001b[0;34m\u001b[0m\u001b[0m\n\u001b[1;32m     13\u001b[0m \u001b[0;34m\u001b[0m\u001b[0m\n\u001b[0;32m---> 14\u001b[0;31m \u001b[0mname\u001b[0m\u001b[0;34m=\u001b[0m\u001b[0minput\u001b[0m\u001b[0;34m(\u001b[0m\u001b[0;34m'Enter the Title '\u001b[0m\u001b[0;34m)\u001b[0m\u001b[0;34m\u001b[0m\u001b[0;34m\u001b[0m\u001b[0m\n\u001b[0m\u001b[1;32m     15\u001b[0m \u001b[0mseason\u001b[0m \u001b[0;34m=\u001b[0m \u001b[0minput\u001b[0m\u001b[0;34m(\u001b[0m\u001b[0;34m'Enter the Season '\u001b[0m\u001b[0;34m)\u001b[0m\u001b[0;34m\u001b[0m\u001b[0;34m\u001b[0m\u001b[0m\n\u001b[1;32m     16\u001b[0m \u001b[0;34m\u001b[0m\u001b[0m\n",
            "\u001b[0;32m/usr/local/lib/python3.6/dist-packages/ipykernel/kernelbase.py\u001b[0m in \u001b[0;36mraw_input\u001b[0;34m(self, prompt)\u001b[0m\n\u001b[1;32m    703\u001b[0m             \u001b[0mself\u001b[0m\u001b[0;34m.\u001b[0m\u001b[0m_parent_ident\u001b[0m\u001b[0;34m,\u001b[0m\u001b[0;34m\u001b[0m\u001b[0;34m\u001b[0m\u001b[0m\n\u001b[1;32m    704\u001b[0m             \u001b[0mself\u001b[0m\u001b[0;34m.\u001b[0m\u001b[0m_parent_header\u001b[0m\u001b[0;34m,\u001b[0m\u001b[0;34m\u001b[0m\u001b[0;34m\u001b[0m\u001b[0m\n\u001b[0;32m--> 705\u001b[0;31m             \u001b[0mpassword\u001b[0m\u001b[0;34m=\u001b[0m\u001b[0;32mFalse\u001b[0m\u001b[0;34m,\u001b[0m\u001b[0;34m\u001b[0m\u001b[0;34m\u001b[0m\u001b[0m\n\u001b[0m\u001b[1;32m    706\u001b[0m         )\n\u001b[1;32m    707\u001b[0m \u001b[0;34m\u001b[0m\u001b[0m\n",
            "\u001b[0;32m/usr/local/lib/python3.6/dist-packages/ipykernel/kernelbase.py\u001b[0m in \u001b[0;36m_input_request\u001b[0;34m(self, prompt, ident, parent, password)\u001b[0m\n\u001b[1;32m    733\u001b[0m             \u001b[0;32mexcept\u001b[0m \u001b[0mKeyboardInterrupt\u001b[0m\u001b[0;34m:\u001b[0m\u001b[0;34m\u001b[0m\u001b[0;34m\u001b[0m\u001b[0m\n\u001b[1;32m    734\u001b[0m                 \u001b[0;31m# re-raise KeyboardInterrupt, to truncate traceback\u001b[0m\u001b[0;34m\u001b[0m\u001b[0;34m\u001b[0m\u001b[0;34m\u001b[0m\u001b[0m\n\u001b[0;32m--> 735\u001b[0;31m                 \u001b[0;32mraise\u001b[0m \u001b[0mKeyboardInterrupt\u001b[0m\u001b[0;34m\u001b[0m\u001b[0;34m\u001b[0m\u001b[0m\n\u001b[0m\u001b[1;32m    736\u001b[0m             \u001b[0;32melse\u001b[0m\u001b[0;34m:\u001b[0m\u001b[0;34m\u001b[0m\u001b[0;34m\u001b[0m\u001b[0m\n\u001b[1;32m    737\u001b[0m                 \u001b[0;32mbreak\u001b[0m\u001b[0;34m\u001b[0m\u001b[0;34m\u001b[0m\u001b[0m\n",
            "\u001b[0;31mKeyboardInterrupt\u001b[0m: "
          ]
        }
      ]
    },
    {
      "cell_type": "code",
      "metadata": {
        "id": "55FGJTvtD2et",
        "colab_type": "code",
        "colab": {}
      },
      "source": [
        "now =[]\n",
        "for i in files:\n",
        "  now.append(proxy+i)\n",
        "  \n",
        "files =now"
      ],
      "execution_count": 0,
      "outputs": []
    },
    {
      "cell_type": "code",
      "metadata": {
        "id": "caduhmF3Ex6E",
        "colab_type": "code",
        "outputId": "c2b9bbbb-0297-4969-c23e-ce01f3752124",
        "colab": {
          "base_uri": "https://localhost:8080/",
          "height": 35
        }
      },
      "source": [
        "proxy"
      ],
      "execution_count": 0,
      "outputs": [
        {
          "output_type": "execute_result",
          "data": {
            "text/plain": [
              "'http://proxy-server.herokuapp.com/'"
            ]
          },
          "metadata": {
            "tags": []
          },
          "execution_count": 37
        }
      ]
    },
    {
      "cell_type": "code",
      "metadata": {
        "id": "rb7zIWRwI5GI",
        "colab_type": "code",
        "outputId": "8746925a-d2b4-4c6a-e5f6-28219febe517",
        "colab": {
          "base_uri": "https://localhost:8080/",
          "height": 219
        }
      },
      "source": [
        "links"
      ],
      "execution_count": 0,
      "outputs": [
        {
          "output_type": "execute_result",
          "data": {
            "text/plain": [
              "['http://proxy-server.herokuapp.com/https://v1.4animu.me/Shingeki-no-Kyojin-Season-3-Part-2/Shingeki-no-Kyojin-Season-3-Part-2-Episode-01-1080p.mp4',\n",
              " 'http://proxy-server.herokuapp.com/https://v1.4animu.me/Shingeki-no-Kyojin-Season-3-Part-2/Shingeki-no-Kyojin-Season-3-Part-2-Episode-02-1080p.mp4',\n",
              " 'http://proxy-server.herokuapp.com/https://v1.4animu.me/Shingeki-no-Kyojin-Season-3-Part-2/Shingeki-no-Kyojin-Season-3-Part-2-Episode-03-1080p.mp4',\n",
              " 'https://proxy12.herokuapp.com/https://v1.4animu.me/Shingeki-no-Kyojin-Season-3-Part-2/Shingeki-no-Kyojin-Season-3-Part-2-Episode-04-1080p.mp4',\n",
              " 'https://proxy12.herokuapp.com/https://v1.4animu.me/Shingeki-no-Kyojin-Season-3-Part-2/Shingeki-no-Kyojin-Season-3-Part-2-Episode-05-1080p.mp4',\n",
              " 'https://proxy12.herokuapp.com/https://v1.4animu.me/Shingeki-no-Kyojin-Season-3-Part-2/Shingeki-no-Kyojin-Season-3-Part-2-Episode-06-1080p.mp4',\n",
              " 'https://proxy13.herokuapp.com/https://v1.4animu.me/Shingeki-no-Kyojin-Season-3-Part-2/Shingeki-no-Kyojin-Season-3-Part-2-Episode-07-1080p.mp4',\n",
              " 'https://proxy13.herokuapp.com/https://v1.4animu.me/Shingeki-no-Kyojin-Season-3-Part-2/Shingeki-no-Kyojin-Season-3-Part-2-Episode-08-1080p.mp4',\n",
              " 'https://proxy13.herokuapp.com/https://v1.4animu.me/Shingeki-no-Kyojin-Season-3-Part-2/Shingeki-no-Kyojin-Season-3-Part-2-Episode-09-1080p.mp4',\n",
              " 'https://proxy16.herokuapp.com/https://v1.4animu.me/Shingeki-no-Kyojin-Season-3-Part-2/Shingeki-no-Kyojin-Season-3-Part-2-Episode-10-1080p.mp4']"
            ]
          },
          "metadata": {
            "tags": []
          },
          "execution_count": 46
        }
      ]
    },
    {
      "cell_type": "code",
      "metadata": {
        "id": "Hb7wlT0jKku_",
        "colab_type": "code",
        "outputId": "7558d5f5-35a7-4465-e175-fdffd15d53d6",
        "colab": {
          "base_uri": "https://localhost:8080/",
          "height": 219
        }
      },
      "source": [
        "files"
      ],
      "execution_count": 0,
      "outputs": [
        {
          "output_type": "execute_result",
          "data": {
            "text/plain": [
              "['http://proxy-server.herokuapp.com/https://v1.4animu.me/Shingeki-no-Kyojin-Season-3-Part-2/Shingeki-no-Kyojin-Season-3-Part-2-Episode-01-1080p.mp4',\n",
              " 'http://proxy-server.herokuapp.com/https://v1.4animu.me/Shingeki-no-Kyojin-Season-3-Part-2/Shingeki-no-Kyojin-Season-3-Part-2-Episode-02-1080p.mp4',\n",
              " 'http://proxy-server.herokuapp.com/https://v1.4animu.me/Shingeki-no-Kyojin-Season-3-Part-2/Shingeki-no-Kyojin-Season-3-Part-2-Episode-03-1080p.mp4',\n",
              " 'https://proxy12.herokuapp.com/https://v1.4animu.me/Shingeki-no-Kyojin-Season-3-Part-2/Shingeki-no-Kyojin-Season-3-Part-2-Episode-04-1080p.mp4',\n",
              " 'https://proxy12.herokuapp.com/https://v1.4animu.me/Shingeki-no-Kyojin-Season-3-Part-2/Shingeki-no-Kyojin-Season-3-Part-2-Episode-05-1080p.mp4',\n",
              " 'https://proxy12.herokuapp.com/https://v1.4animu.me/Shingeki-no-Kyojin-Season-3-Part-2/Shingeki-no-Kyojin-Season-3-Part-2-Episode-06-1080p.mp4',\n",
              " 'https://proxy13.herokuapp.com/https://v1.4animu.me/Shingeki-no-Kyojin-Season-3-Part-2/Shingeki-no-Kyojin-Season-3-Part-2-Episode-07-1080p.mp4',\n",
              " 'https://proxy13.herokuapp.com/https://v1.4animu.me/Shingeki-no-Kyojin-Season-3-Part-2/Shingeki-no-Kyojin-Season-3-Part-2-Episode-08-1080p.mp4',\n",
              " 'https://proxy13.herokuapp.com/https://v1.4animu.me/Shingeki-no-Kyojin-Season-3-Part-2/Shingeki-no-Kyojin-Season-3-Part-2-Episode-09-1080p.mp4',\n",
              " 'https://proxy16.herokuapp.com/https://v1.4animu.me/Shingeki-no-Kyojin-Season-3-Part-2/Shingeki-no-Kyojin-Season-3-Part-2-Episode-10-1080p.mp4']"
            ]
          },
          "metadata": {
            "tags": []
          },
          "execution_count": 47
        }
      ]
    },
    {
      "cell_type": "code",
      "metadata": {
        "id": "S-UtgJT4KoIB",
        "colab_type": "code",
        "outputId": "f2953205-444f-4581-e052-bcf795a95ea5",
        "colab": {
          "base_uri": "https://localhost:8080/",
          "height": 217
        }
      },
      "source": [
        "!ps -e"
      ],
      "execution_count": 5,
      "outputs": [
        {
          "output_type": "stream",
          "text": [
            "    PID TTY          TIME CMD\n",
            "      1 ?        00:00:00 run.sh\n",
            "      8 ?        00:00:01 node\n",
            "     26 ?        00:00:03 jupyter-noteboo\n",
            "    112 ?        00:00:00 tail\n",
            "    121 ?        00:00:08 python3\n",
            "    185 ?        00:00:00 drive\n",
            "    302 ?        00:00:05 drive\n",
            "    349 ?        00:00:00 tail\n",
            "    350 ?        00:00:00 grep\n",
            "    706 ?        00:00:00 ps\n"
          ],
          "name": "stdout"
        }
      ]
    },
    {
      "cell_type": "code",
      "metadata": {
        "id": "gkHjSBdvZZUX",
        "colab_type": "code",
        "colab": {
          "base_uri": "https://localhost:8080/",
          "height": 199
        },
        "outputId": "56d511da-f6f0-4987-fc37-202a41f2c23f"
      },
      "source": [
        "import os\n",
        "\n",
        "base_dir = os.getcwd()+'/drive/My Drive/Downloads/'\n",
        "if not os.path.exists(base_dir):\n",
        "  os.makedirs(base_dir)\n",
        "base =base_dir+'MP4'\n",
        "\n",
        "def sorter(dir):\n",
        "  dir.sort()\n",
        "  return dir\n",
        "\n",
        "\n",
        "\n",
        "for name in os.listdir(base):\n",
        "  path = base+'/'+name\n",
        "  for season in os.listdir(path):\n",
        "    season_path = path+'/'+season\n",
        "    for epi in sorter(os.listdir(season_path)):\n",
        "      epi_path = season_path+'/'+epi\n",
        "      Title = '{}--{}--{} '.format(name,season,epi)\n",
        "      print(Title.split('--'))\n",
        "      Series.document(name+'/'+season+'/'+epi).set({'id':'ok'})\n"
      ],
      "execution_count": 12,
      "outputs": [
        {
          "output_type": "stream",
          "text": [
            "['Shingeki no Kyojin', 'Season 3 Part 2', 'Shingeki-no-Kyojin-Season-3-Part-2-Episode-01-1080p.mp4 ']\n",
            "['Shingeki no Kyojin', 'Season 3 Part 2', 'Shingeki-no-Kyojin-Season-3-Part-2-Episode-02-1080p.mp4 ']\n",
            "['Shingeki no Kyojin', 'Season 3 Part 2', 'Shingeki-no-Kyojin-Season-3-Part-2-Episode-03-1080p.mp4 ']\n",
            "['Shingeki no Kyojin', 'Season 3 Part 2', 'Shingeki-no-Kyojin-Season-3-Part-2-Episode-04-1080p.mp4 ']\n",
            "['Shingeki no Kyojin', 'Season 3 Part 2', 'Shingeki-no-Kyojin-Season-3-Part-2-Episode-05-1080p.mp4 ']\n",
            "['Shingeki no Kyojin', 'Season 3 Part 2', 'Shingeki-no-Kyojin-Season-3-Part-2-Episode-06-1080p.mp4 ']\n",
            "['Shingeki no Kyojin', 'Season 3 Part 2', 'Shingeki-no-Kyojin-Season-3-Part-2-Episode-07-1080p.mp4 ']\n",
            "['Shingeki no Kyojin', 'Season 3 Part 2', 'Shingeki-no-Kyojin-Season-3-Part-2-Episode-08-1080p.mp4 ']\n",
            "['Shingeki no Kyojin', 'Season 3 Part 2', 'Shingeki-no-Kyojin-Season-3-Part-2-Episode-09-1080p.mp4 ']\n",
            "['Shingeki no Kyojin', 'Season 3 Part 2', 'Shingeki-no-Kyojin-Season-3-Part-2-Episode-10-1080p.mp4 ']\n"
          ],
          "name": "stdout"
        }
      ]
    },
    {
      "cell_type": "code",
      "metadata": {
        "id": "yurQhqlrEdyP",
        "colab_type": "code",
        "colab": {
          "base_uri": "https://localhost:8080/",
          "height": 171
        },
        "outputId": "8ea7e251-8187-4f82-9dc2-2ca55150482b"
      },
      "source": [
        "Series"
      ],
      "execution_count": 9,
      "outputs": [
        {
          "output_type": "error",
          "ename": "NameError",
          "evalue": "ignored",
          "traceback": [
            "\u001b[0;31m---------------------------------------------------------------------------\u001b[0m",
            "\u001b[0;31mNameError\u001b[0m                                 Traceback (most recent call last)",
            "\u001b[0;32m<ipython-input-9-8f8f4644b224>\u001b[0m in \u001b[0;36m<module>\u001b[0;34m()\u001b[0m\n\u001b[0;32m----> 1\u001b[0;31m \u001b[0mSeries\u001b[0m\u001b[0;34m\u001b[0m\u001b[0;34m\u001b[0m\u001b[0m\n\u001b[0m",
            "\u001b[0;31mNameError\u001b[0m: name 'Series' is not defined"
          ]
        }
      ]
    },
    {
      "cell_type": "code",
      "metadata": {
        "id": "2OIhEIqyGQBr",
        "colab_type": "code",
        "colab": {}
      },
      "source": [
        ""
      ],
      "execution_count": 0,
      "outputs": []
    }
  ]
}